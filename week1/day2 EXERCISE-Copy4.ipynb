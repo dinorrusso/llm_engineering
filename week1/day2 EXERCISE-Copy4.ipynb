{
 "cells": [
  {
   "cell_type": "markdown",
   "id": "d15d8294-3328-4e07-ad16-8a03e9bbfdb9",
   "metadata": {},
   "source": [
    "# Welcome to your first assignment!\n",
    "\n",
    "Instructions are below. Please give this a try, and look in the solutions folder if you get stuck (or feel free to ask me!)"
   ]
  },
  {
   "cell_type": "markdown",
   "id": "ada885d9-4d42-4d9b-97f0-74fbbbfe93a9",
   "metadata": {},
   "source": [
    "<table style=\"margin: 0; text-align: left;\">\n",
    "    <tr>\n",
    "        <td style=\"width: 150px; height: 150px; vertical-align: middle;\">\n",
    "            <img src=\"../resources.jpg\" width=\"150\" height=\"150\" style=\"display: block;\" />\n",
    "        </td>\n",
    "        <td>\n",
    "            <h2 style=\"color:#f71;\">Just before we get to the assignment --</h2>\n",
    "            <span style=\"color:#f71;\">I thought I'd take a second to point you at this page of useful resources for the course. This includes links to all the slides.<br/>\n",
    "            <a href=\"https://edwarddonner.com/2024/11/13/llm-engineering-resources/\">https://edwarddonner.com/2024/11/13/llm-engineering-resources/</a><br/>\n",
    "            Please keep this bookmarked, and I'll continue to add more useful links there over time.\n",
    "            </span>\n",
    "        </td>\n",
    "    </tr>\n",
    "</table>"
   ]
  },
  {
   "cell_type": "markdown",
   "id": "6e9fa1fc-eac5-4d1d-9be4-541b3f2b3458",
   "metadata": {},
   "source": [
    "# HOMEWORK EXERCISE ASSIGNMENT\n",
    "\n",
    "Upgrade the day 1 project to summarize a webpage to use an Open Source model running locally via Ollama rather than OpenAI\n",
    "\n",
    "You'll be able to use this technique for all subsequent projects if you'd prefer not to use paid APIs.\n",
    "\n",
    "**Benefits:**\n",
    "1. No API charges - open-source\n",
    "2. Data doesn't leave your box\n",
    "\n",
    "**Disadvantages:**\n",
    "1. Significantly less power than Frontier Model\n",
    "\n",
    "## Recap on installation of Ollama\n",
    "\n",
    "Simply visit [ollama.com](https://ollama.com) and install!\n",
    "\n",
    "Once complete, the ollama server should already be running locally.  \n",
    "If you visit:  \n",
    "[http://localhost:11434/](http://localhost:11434/)\n",
    "\n",
    "You should see the message `Ollama is running`.  \n",
    "\n",
    "If not, bring up a new Terminal (Mac) or Powershell (Windows) and enter `ollama serve`  \n",
    "And in another Terminal (Mac) or Powershell (Windows), enter `ollama pull llama3.2`  \n",
    "Then try [http://localhost:11434/](http://localhost:11434/) again.\n",
    "\n",
    "If Ollama is slow on your machine, try using `llama3.2:1b` as an alternative. Run `ollama pull llama3.2:1b` from a Terminal or Powershell, and change the code below from `MODEL = \"llama3.2\"` to `MODEL = \"llama3.2:1b\"`"
   ]
  },
  {
   "cell_type": "code",
   "execution_count": 1,
   "id": "4e2a9393-7767-488e-a8bf-27c12dca35bd",
   "metadata": {},
   "outputs": [],
   "source": [
    "# imports\n",
    "\n",
    "import requests\n",
    "from bs4 import BeautifulSoup\n",
    "from IPython.display import Markdown, display"
   ]
  },
  {
   "cell_type": "code",
   "execution_count": 2,
   "id": "29ddd15d-a3c5-4f4e-a678-873f56162724",
   "metadata": {},
   "outputs": [],
   "source": [
    "# Constants\n",
    "\n",
    "OLLAMA_API = \"http://localhost:11434/api/chat\"\n",
    "HEADERS = {\"Content-Type\": \"application/json\"}\n",
    "MODEL = \"llama3.2\""
   ]
  },
  {
   "cell_type": "code",
   "execution_count": 3,
   "id": "dac0a679-599c-441f-9bf2-ddc73d35b940",
   "metadata": {},
   "outputs": [],
   "source": [
    "# Create a messages list using the same format that we used for OpenAI\n",
    "\n",
    "messages = [\n",
    "    {\"role\": \"user\", \"content\": \"Describe some of the business applications of Generative AI\"}\n",
    "]"
   ]
  },
  {
   "cell_type": "code",
   "execution_count": 4,
   "id": "7bb9c624-14f0-4945-a719-8ddb64f66f47",
   "metadata": {},
   "outputs": [],
   "source": [
    "payload = {\n",
    "        \"model\": MODEL,\n",
    "        \"messages\": messages,\n",
    "        \"stream\": False\n",
    "    }"
   ]
  },
  {
   "cell_type": "code",
   "execution_count": 5,
   "id": "42b9f644-522d-4e05-a691-56e7658c0ea9",
   "metadata": {},
   "outputs": [
    {
     "name": "stdout",
     "output_type": "stream",
     "text": [
      "Generative AI has numerous business applications across various industries, including:\n",
      "\n",
      "1. **Content Generation**: AI can generate high-quality content such as blog posts, social media posts, product descriptions, and more. This can help businesses save time and effort in creating content.\n",
      "2. **Image and Video Generation**: Generative AI can create realistic images and videos that can be used for advertising, marketing, and other purposes.\n",
      "3. **Chatbots and Virtual Assistants**: AI-powered chatbots can engage with customers, answer questions, and provide support, freeing up human customer service representatives to focus on more complex issues.\n",
      "4. **Product Design and Development**: Generative AI can assist in designing and developing new products by generating 2D and 3D models, prototypes, and product simulations.\n",
      "5. **Marketing and Advertising**: AI can analyze consumer behavior, preferences, and trends to create personalized marketing campaigns and advertisements that are more effective.\n",
      "6. **Data Analysis and Visualization**: Generative AI can analyze large datasets and generate visualizations such as graphs, charts, and heat maps to help businesses gain insights into their data.\n",
      "7. **Automated Writing and Editing**: AI-powered tools can assist writers in generating ideas, outlining stories, and even writing entire articles or documents.\n",
      "8. **Music and Audio Generation**: Generative AI can create original music, sound effects, and audio tracks that can be used in various applications such as film, television, and video games.\n",
      "9. **Financial Modeling and Forecasting**: AI-powered tools can analyze financial data, predict trends, and generate forecasts to help businesses make informed investment decisions.\n",
      "10. **Customer Service and Support**: Generative AI can help automate customer service tasks such as responding to common inquiries, resolving simple issues, and routing complex issues to human representatives.\n",
      "\n",
      "Some specific business applications of Generative AI include:\n",
      "\n",
      "1. **Virtual product assistants**: Companies like IKEA use Generative AI to create virtual product assistants that allow customers to design and visualize products in 3D.\n",
      "2. **Automated marketing content generation**: Brands like Nike and Coca-Cola use Generative AI to generate social media posts, blog articles, and other marketing content.\n",
      "3. **Generative music for film scores**: Companies like Spotify and Apple Music use Generative AI to create original music tracks for films and TV shows.\n",
      "4. **Personalized product recommendations**: Online retailers like Amazon and eBay use Generative AI to analyze customer behavior and generate personalized product recommendations.\n",
      "5. **Automated content translation**: Companies like Google Translate use Generative AI to automate the translation of text from one language to another.\n",
      "\n",
      "These are just a few examples of the many business applications of Generative AI. As the technology continues to evolve, we can expect to see even more innovative uses across various industries and sectors.\n"
     ]
    }
   ],
   "source": [
    "response = requests.post(OLLAMA_API, json=payload, headers=HEADERS)\n",
    "print(response.json()['message']['content'])"
   ]
  },
  {
   "cell_type": "markdown",
   "id": "6a021f13-d6a1-4b96-8e18-4eae49d876fe",
   "metadata": {},
   "source": [
    "# Introducing the ollama package\n",
    "\n",
    "And now we'll do the same thing, but using the elegant ollama python package instead of a direct HTTP call.\n",
    "\n",
    "Under the hood, it's making the same call as above to the ollama server running at localhost:11434"
   ]
  },
  {
   "cell_type": "code",
   "execution_count": 6,
   "id": "7745b9c4-57dc-4867-9180-61fa5db55eb8",
   "metadata": {},
   "outputs": [
    {
     "name": "stdout",
     "output_type": "stream",
     "text": [
      "Generative AI has numerous business applications across various industries. Here are some examples:\n",
      "\n",
      "1. **Content Generation**: AI can generate high-quality content such as articles, blog posts, social media posts, and even entire books. This can be particularly useful for businesses with limited content creation resources.\n",
      "2. **Image and Video Creation**: Generative AI can create realistic images and videos that can be used in advertising, marketing materials, or even entertainment. For example, a company like IKEA has used generative AI to create high-quality product images without the need for expensive photography equipment.\n",
      "3. **Chatbots and Virtual Assistants**: AI-powered chatbots can help businesses provide customer support 24/7, answering frequently asked questions and route complex issues to human agents. Generative AI can also be used to generate responses that are more natural and engaging.\n",
      "4. **Marketing Campaigns**: Generative AI can be used to create personalized marketing campaigns by generating customized content, such as email subject lines, social media posts, or even entire ad campaigns.\n",
      "5. **Product Design**: Generative AI can help designers create new product designs by using machine learning algorithms to generate thousands of variations based on customer feedback and design trends.\n",
      "6. **Predictive Analytics**: Generative AI can be used to predict sales, demand, and other business outcomes by analyzing historical data and generating insights that inform strategic decisions.\n",
      "7. **Automated Customer Segmentation**: Generative AI can help businesses segment their customers into distinct groups based on behavior, demographics, or preferences.\n",
      "8. **Content Editing and Proofreading**: AI-powered tools can edit and proofread content to ensure accuracy, grammar, and style consistency.\n",
      "9. **Music and Audio Generation**: Generative AI can create original music compositions, sound effects, or even entire audio tracks that can be used in advertising, video games, or other applications.\n",
      "10. **Risk Management**: Generative AI can help businesses identify potential risks by analyzing large datasets and generating insights on probability, consequence, and mitigation strategies.\n",
      "\n",
      "Some notable business examples of generative AI include:\n",
      "\n",
      "* Google's use of generative AI to create realistic images for its search results\n",
      "* Microsoft's development of a generative AI tool that can generate natural language responses to user queries\n",
      "* IBM's use of generative AI to create personalized content recommendations for its Watson platform\n",
      "* Airbnb's use of generative AI to generate unique and engaging product descriptions for its listings\n",
      "\n",
      "These examples demonstrate the vast potential of generative AI in various business applications, from marketing and content creation to risk management and more.\n"
     ]
    }
   ],
   "source": [
    "import ollama\n",
    "\n",
    "response = ollama.chat(model=MODEL, messages=messages)\n",
    "print(response['message']['content'])"
   ]
  },
  {
   "cell_type": "markdown",
   "id": "1622d9bb-5c68-4d4e-9ca4-b492c751f898",
   "metadata": {},
   "source": [
    "# NOW the exercise for you\n",
    "\n",
    "Take the code from day1 and incorporate it here, to build a website summarizer that uses Llama 3.2 running locally instead of OpenAI"
   ]
  },
  {
   "cell_type": "code",
   "execution_count": 7,
   "id": "3fd79b9a-6335-4b51-9388-c2bf037efd80",
   "metadata": {},
   "outputs": [],
   "source": [
    "# imports\n",
    "import requests\n",
    "from bs4 import BeautifulSoup\n",
    "from IPython.display import Markdown, display\n",
    "import ollama\n"
   ]
  },
  {
   "cell_type": "code",
   "execution_count": 8,
   "id": "683d8638-3966-4e3a-9269-b7c253e98e3c",
   "metadata": {},
   "outputs": [],
   "source": [
    "# Constants\n",
    "MODEL = \"llama3.2\""
   ]
  },
  {
   "cell_type": "code",
   "execution_count": 9,
   "id": "c5e793b2-6775-426a-a139-4848291d0463",
   "metadata": {},
   "outputs": [],
   "source": [
    "# A class to represent a Webpage\n",
    "\n",
    "class Website:\n",
    "    \"\"\"\n",
    "    A utility class to represent a Website that we have scraped\n",
    "    \"\"\"\n",
    "\n",
    "    def __init__(self, url):\n",
    "        \"\"\"\n",
    "        Create this Website object from the given url using the BeautifulSoup library\n",
    "        \"\"\"\n",
    "        self.url = url\n",
    "        response = requests.get(url)\n",
    "        soup = BeautifulSoup(response.content, 'html.parser')\n",
    "        self.title = soup.title.string if soup.title else \"No title found\"\n",
    "        for irrelevant in soup.body([\"script\", \"style\", \"img\", \"input\"]):\n",
    "            irrelevant.decompose()\n",
    "        self.text = soup.body.get_text(separator=\"\\n\", strip=True)"
   ]
  },
  {
   "cell_type": "code",
   "execution_count": 10,
   "id": "7530013f-b1bb-4f55-bf09-6b6670a79728",
   "metadata": {},
   "outputs": [],
   "source": [
    "# Define our system prompt\n",
    "\n",
    "system_prompt = \"You are an assistant that analyzes the contents of a website \\\n",
    "and provides a short summary, ignoring text that might be navigation related. \\\n",
    "Respond in markdown.\""
   ]
  },
  {
   "cell_type": "code",
   "execution_count": 11,
   "id": "e008ecb6-dd58-4fca-97bd-7412d98e547c",
   "metadata": {},
   "outputs": [],
   "source": [
    "# A function that writes a User Prompt that asks for summaries of websites:\n",
    "\n",
    "def user_prompt_for(website):\n",
    "    user_prompt = f\"You are looking at a website titled {website.title}\"\n",
    "    user_prompt += \"\\nThe contents of this website is as follows; \\\n",
    "please provide a short summary of this website in markdown. \\\n",
    "If it includes news or announcements, then summarize these too.\\n\\n\"\n",
    "    user_prompt += website.text\n",
    "    return user_prompt"
   ]
  },
  {
   "cell_type": "code",
   "execution_count": 12,
   "id": "c4f0c2b5-0184-43a6-9cf8-e1fefdf9a6a4",
   "metadata": {},
   "outputs": [],
   "source": [
    "def messages_for(website):\n",
    "    return [\n",
    "        {\"role\": \"system\", \"content\": system_prompt},\n",
    "        {\"role\": \"user\", \"content\": user_prompt_for(website)}\n",
    "    ]"
   ]
  },
  {
   "cell_type": "code",
   "execution_count": 13,
   "id": "e3bd23b2-5299-4e89-8bca-f823ed38b2f5",
   "metadata": {},
   "outputs": [],
   "source": [
    "def summarize(url):\n",
    "    website = Website(url)\n",
    "    messages = messages_for(website)\n",
    "    response = ollama.chat(model=MODEL, messages=messages)\n",
    "    return response['message']['content']"
   ]
  },
  {
   "cell_type": "code",
   "execution_count": 14,
   "id": "e70f7772-a636-4161-96fc-9e9c197d806a",
   "metadata": {},
   "outputs": [
    {
     "data": {
      "text/plain": [
       "\"### Summary of Edward Donner's Website\\n\\n#### About the Author\\nEdward Donner is a writer, entrepreneur, and expert in Large Language Models (LLMs). He enjoys DJing, music production, and reading Hacker News. As the co-founder and CTO of Nebula.io, he applies AI to help people discover their potential.\\n\\n#### Key Projects and Initiatives\\n\\n*   **Nebula.io**: Developing AI-powered talent management solutions using proprietary LLMs.\\n*   **untapt**: Founded and previously led as CEO before its acquisition in 2021.\\n\\n#### News and Announcements\\nThe website features recent news articles, including:\\n\\n*   [Mastering AI and LLM Engineering – Resources](November 13, 2024)\\n*   [From Software Engineer to AI Data Scientist – resources](October 16, 2024)\\n*   [Choosing the Right LLM: Toolkit and Resources](June 26, 2024)\\n\\n### Contact Information\\nTo get in touch with Edward Donner, follow these links:\\n\\n*   Email: ed [at] edwarddonner [dot] com\\n*   Website: www.edwarddonner.com\\n*   LinkedIn: [LinkedIn profile]\\n*   Twitter: [Twitter handle]\\n*   Facebook: [Facebook profile]\\n*   Newsletter Subscription: [Newsletter sign-up page]\""
      ]
     },
     "execution_count": 14,
     "metadata": {},
     "output_type": "execute_result"
    }
   ],
   "source": [
    "summarize(\"https://edwarddonner.com\")"
   ]
  },
  {
   "cell_type": "code",
   "execution_count": 15,
   "id": "a87265db-7902-49e7-82d6-e588982bd6b1",
   "metadata": {},
   "outputs": [],
   "source": [
    "# A function to display this nicely in the Jupyter output, using markdown\n",
    "\n",
    "def display_summary(url):\n",
    "    summary = summarize(url)\n",
    "    display(Markdown(summary))"
   ]
  },
  {
   "cell_type": "code",
   "execution_count": 16,
   "id": "4c0aa07d-a719-4dc5-89bc-889874d06cb7",
   "metadata": {},
   "outputs": [
    {
     "data": {
      "text/markdown": [
       "# Summary of Edward Donner's Website\n",
       "=====================================\n",
       "\n",
       "### Introduction\n",
       "\n",
       "Edward Donner is the co-founder and CTO of Nebula.io, a company applying AI to help people discover their potential. He shares his interests in writing code, experimenting with LLMs, DJing, and amateur electronic music production.\n",
       "\n",
       "### Recent Announcements\n",
       "-------------------------\n",
       "\n",
       "* **Mastering AI and LLM Engineering – Resources** (November 13, 2024): A collection of resources for improving AI and LLM engineering skills.\n",
       "* **From Software Engineer to AI Data Scientist – resources** (October 16, 2024): Resources for transitioning from a software engineer role to an AI data scientist role.\n",
       "* **Outsmart LLM Arena – a battle of diplomacy and deviousness** (June 26, 2024): A new arena where LLMs compete against each other in a game of diplomacy and strategy.\n",
       "* **Choosing the Right LLM: Toolkit and Resources** (August 6, 2024): A toolkit and resources for choosing the right LLM for specific use cases.\n",
       "\n",
       "### Other Content\n",
       "\n",
       "The website features an \"Outsmart\" arena where LLMs compete against each other in a battle of diplomacy and deviousness. It also includes information about Edward Donner's background as a founder and CEO of AI startups, and his current work at Nebula.io."
      ],
      "text/plain": [
       "<IPython.core.display.Markdown object>"
      ]
     },
     "metadata": {},
     "output_type": "display_data"
    }
   ],
   "source": [
    "display_summary(\"https://edwarddonner.com\")"
   ]
  },
  {
   "cell_type": "code",
   "execution_count": null,
   "id": "9af916d4-f678-463c-874c-08267f95d292",
   "metadata": {},
   "outputs": [],
   "source": []
  }
 ],
 "metadata": {
  "kernelspec": {
   "display_name": "Python 3 (ipykernel)",
   "language": "python",
   "name": "python3"
  },
  "language_info": {
   "codemirror_mode": {
    "name": "ipython",
    "version": 3
   },
   "file_extension": ".py",
   "mimetype": "text/x-python",
   "name": "python",
   "nbconvert_exporter": "python",
   "pygments_lexer": "ipython3",
   "version": "3.11.2"
  }
 },
 "nbformat": 4,
 "nbformat_minor": 5
}
