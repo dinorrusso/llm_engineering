{
 "cells": [
  {
   "cell_type": "markdown",
   "id": "fe12c203-e6a6-452c-a655-afb8a03a4ff5",
   "metadata": {},
   "source": [
    "# End of week 1 exercise\n",
    "\n",
    "To demonstrate your familiarity with OpenAI API, and also Ollama, build a tool that takes a technical question,  \n",
    "and responds with an explanation. This is a tool that you will be able to use yourself during the course!"
   ]
  },
  {
   "cell_type": "code",
   "execution_count": 3,
   "id": "c1070317-3ed9-4659-abe3-828943230e03",
   "metadata": {},
   "outputs": [],
   "source": [
    "# imports\n",
    "import os\n",
    "from typing import List\n",
    "from dotenv import load_dotenv\n",
    "from IPython.display import Markdown, display, update_display\n",
    "from openai import OpenAI"
   ]
  },
  {
   "cell_type": "code",
   "execution_count": 4,
   "id": "4a456906-915a-4bfd-bb9d-57e505c5093f",
   "metadata": {},
   "outputs": [],
   "source": [
    "# constants\n",
    "\n",
    "MODEL_GPT = 'gpt-4o-mini'\n",
    "MODEL_LLAMA = 'llama3.2'"
   ]
  },
  {
   "cell_type": "code",
   "execution_count": 5,
   "id": "a8d7923c-5f28-4c30-8556-342d7c8497c1",
   "metadata": {},
   "outputs": [
    {
     "name": "stdout",
     "output_type": "stream",
     "text": [
      "API key looks good so far\n"
     ]
    }
   ],
   "source": [
    "# set up environment\n",
    "load_dotenv()\n",
    "api_key = os.getenv('OPENAI_API_KEY')\n",
    "\n",
    "if api_key and api_key.startswith('sk-proj-') and len(api_key)>10:\n",
    "    print(\"API key looks good so far\")\n",
    "else:\n",
    "    print(\"There might be a problem with your API key? Please visit the troubleshooting notebook!\")\n",
    "    \n",
    "openai = OpenAI()"
   ]
  },
  {
   "cell_type": "code",
   "execution_count": 6,
   "id": "dcd8d8e1-75f8-4682-8777-62d404ade6e2",
   "metadata": {},
   "outputs": [],
   "source": [
    "tutor_system_prompt = \"You are technology tutor familiar with hordware, software, and coding - especially in python. \\\n",
    "You are able to answer questions in such a way that even a novice can understand.\\n\"\n",
    "tutor_system_prompt += \"You should respond in Markdown.\"\n"
   ]
  },
  {
   "cell_type": "code",
   "execution_count": 7,
   "id": "3f0d0137-52b0-47a8-81a8-11a90a010798",
   "metadata": {},
   "outputs": [],
   "source": [
    "def stream_answer(question):\n",
    "    \n",
    "    user_prompt = question\n",
    "    stream = openai.chat.completions.create(\n",
    "        model=MODEL_GPT,\n",
    "        messages=[\n",
    "            {\"role\": \"system\", \"content\": tutor_system_prompt},\n",
    "            {\"role\": \"user\", \"content\":question}\n",
    "          ],\n",
    "        stream=True\n",
    "    )\n",
    "    response = \"\"\n",
    "    display_handle = display(Markdown(\"\"), display_id=True)\n",
    "    for chunk in stream:\n",
    "        response += chunk.choices[0].delta.content or ''\n",
    "        response = response.replace(\"```\",\"\").replace(\"markdown\", \"\")\n",
    "        update_display(Markdown(response), display_id=display_handle.display_id)"
   ]
  },
  {
   "cell_type": "code",
   "execution_count": 8,
   "id": "60ce7000-a4a5-4cce-a261-e75ef45063b4",
   "metadata": {},
   "outputs": [
    {
     "data": {
      "text/markdown": [
       "Certainly! To create a Python function called `get_llama_response(for_this_question)` using the `ollama.chat` from the `ollama` module, we first need to ensure that you have the `ollama` package installed. You can do this with the following command in your Jupyter Notebook:\n",
       "\n",
       "python\n",
       "!pip install ollama\n",
       "\n",
       "\n",
       "After ensuring that you have the `ollama` library, below is how you can implement the `get_llama_response` function and create a loop to prompt the user for questions until they decide to quit.\n",
       "\n",
       "### Example Code\n",
       "\n",
       "python\n",
       "# Importing the required module\n",
       "import ollama\n",
       "\n",
       "# Define the function to get a response from Llama\n",
       "def get_llama_response(for_this_question):\n",
       "    # Interact with the Ollama chat system\n",
       "    response = ollama.chat(for_this_question)  # Call the chat function with the user's question\n",
       "    return response\n",
       "\n",
       "# Continuous loop to ask questions\n",
       "try:\n",
       "    while True:\n",
       "        # Asking the user for a question\n",
       "        question = input(\"Please ask a question (or press Ctrl+C to quit): \")\n",
       "        \n",
       "        # Get the response using our defined function\n",
       "        response = get_llama_response(question)\n",
       "        \n",
       "        # Print the response\n",
       "        print(\"Llama's response:\", response)\n",
       "        \n",
       "except KeyboardInterrupt:\n",
       "    # Handle the exit gracefully and notify the user\n",
       "    print(\"\\nExiting the question loop. Goodbye!\")\n",
       "\n",
       "\n",
       "### Explanation\n",
       "1. **Importing the Module**: We import the `ollama` module which contains the `chat` function.\n",
       "2. **Function Definition**: The `get_llama_response` function takes a question as input and uses the `ollama.chat` to get a response.\n",
       "3. **Infinite Loop**: A `while True` loop is set up, which continuously asks the user for input.\n",
       "4. **User Input**: The `input()` function is used to get the user's question.\n",
       "5. **Getting Response**: The function `get_llama_response()` is called with the user's question to get the response from Llama.\n",
       "6. **Printing the Response**: The response is printed out.\n",
       "7. **Handling Quit**: The loop will continue until the user presses `Ctrl+C`, at which point a message will be printed, and the program will exit gracefully.\n",
       "\n",
       "### Running the Code\n",
       "- Copy and paste the code into a cell in your Jupyter Notebook and run it.\n",
       "- You will be prompted to enter a question, and the Llama's response will be shown.\n",
       "- You can exit by pressing `Ctrl+C`.\n",
       "\n",
       "This setup is user-friendly and allows anyone, even novices, to ask questions and receive answers using the `ollama.chat` functionality. Enjoy chatting with Llama!"
      ],
      "text/plain": [
       "<IPython.core.display.Markdown object>"
      ]
     },
     "metadata": {},
     "output_type": "display_data"
    }
   ],
   "source": [
    "question = \"\"\"\n",
    "How would you code a python function caled get_llama_response(for_this_question) \\\n",
    "using ollama.chat from the ollama module.  To test this, create a loop that prompts\\\n",
    "for a question, and loops until the user quits using <CTRL><C>. This shoudl run in a Jupyter Notebook\n",
    "\"\"\"\n",
    "stream_answer(question)"
   ]
  },
  {
   "cell_type": "code",
   "execution_count": 9,
   "id": "8f7c8ea8-4082-4ad0-8751-3301adcf6538",
   "metadata": {},
   "outputs": [],
   "source": [
    "# Get Llama 3.2 to answer\n",
    "import requests\n",
    "import ollama\n",
    "OLLAMA_API = \"http://localhost:11434/api/chat\"\n",
    "HEADERS = {\"Content-Type\": \"application/json\"}\n"
   ]
  },
  {
   "cell_type": "code",
   "execution_count": 10,
   "id": "670eb1e8-4079-4be1-9552-2bd1490876e7",
   "metadata": {},
   "outputs": [],
   "source": [
    "messages=[\n",
    "            {\"role\": \"system\", \"content\": tutor_system_prompt},\n",
    "            {\"role\": \"user\", \"content\":question}\n",
    "          ]"
   ]
  },
  {
   "cell_type": "code",
   "execution_count": 36,
   "id": "067b8082-0c20-4d38-af6b-4dcf0286d23c",
   "metadata": {},
   "outputs": [
    {
     "data": {
      "text/markdown": [
       "**Breaking Down the Code**\n",
       "==========================\n",
       "\n",
       "The given code snippet is written in Python and utilizes a feature called **generators**. A generator is a special type of iterable that can be used to generate a sequence of results on-the-fly, rather than computing them all at once and storing them in memory.\n",
       "\n",
       "Here's a breakdown of what the code does:\n",
       "\n",
       "```python\n",
       "yield from {book.get(\"author\") for book in books if book.get(\"author\")}\n",
       "```\n",
       "\n",
       "**Parts Explained**\n",
       "\n",
       "1. **`yield from`**: This is a Python 3.3+ feature that allows us to delegate to another generator or iterable and have its results yielded by our own generator.\n",
       "2. **`{book.get(\"author\") for book in books if book.get(\"author\")}`**: This part is called a **generator expression**. It's similar to a list comprehension, but instead of building up a list, it generates values on-the-fly.\n",
       "\n",
       "Let's break down the `if` condition: `books` is assumed to be an iterable (like a list or dictionary). The generator expression iterates over each book in `books`. For each book, it checks if the book has an `\"author\"` key using the `.get()` method. If the key exists and its value is not empty (`\"\"`), the author's name is yielded.\n",
       "\n",
       "**Putting It All Together**\n",
       "---------------------------\n",
       "\n",
       "The `yield from` statement takes the generator expression `{book.get(\"author\") for book in books if book.get(\"author\")}` and yields each of its values, one at a time. This allows us to process all authors without having to store them all in memory.\n",
       "\n",
       "In essence, this code is equivalent to:\n",
       "\n",
       "```python\n",
       "for author in {book[\"author\"] for book in books if \"author\" in book and book[\"author\"] != \"\"}:\n",
       "    yield author\n",
       "```\n",
       "\n",
       "However, the generator expression version is more concise and efficient, especially when working with large datasets."
      ],
      "text/plain": [
       "<IPython.core.display.Markdown object>"
      ]
     },
     "metadata": {},
     "output_type": "display_data"
    }
   ],
   "source": [
    "response = ollama.chat(model=MODEL_LLAMA, messages=messages)\n",
    "reply = response['message']['content']\n",
    "display(Markdown(reply))"
   ]
  },
  {
   "cell_type": "code",
   "execution_count": null,
   "id": "678bb260-91b8-4fc5-b215-f7e374b30a16",
   "metadata": {},
   "outputs": [],
   "source": []
  }
 ],
 "metadata": {
  "kernelspec": {
   "display_name": "Python 3 (ipykernel)",
   "language": "python",
   "name": "python3"
  },
  "language_info": {
   "codemirror_mode": {
    "name": "ipython",
    "version": 3
   },
   "file_extension": ".py",
   "mimetype": "text/x-python",
   "name": "python",
   "nbconvert_exporter": "python",
   "pygments_lexer": "ipython3",
   "version": "3.11.2"
  }
 },
 "nbformat": 4,
 "nbformat_minor": 5
}
