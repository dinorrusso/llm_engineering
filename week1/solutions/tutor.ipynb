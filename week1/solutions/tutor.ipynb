{
 "cells": [
  {
   "cell_type": "code",
   "execution_count": null,
   "id": "68d8a362-59db-4c1a-976a-3086c8a13d31",
   "metadata": {},
   "outputs": [],
   "source": [
    "import ollama\n",
    "# Constants\n",
    "OLLAMA_API = \"http://localhost:11434/api/chat\"\n",
    "HEADERS = {\"Content-Type\": \"application/json\"}\n",
    "MODEL = \"llama3.2\"\n",
    "\n",
    "\n",
    "tutor_system_prompt = \"You are technology tutor familiar with hordware, software, and coding - especially in python. \\\n",
    "You are able to answer questions in such a way that even a novice can understand.\\n\"\n",
    "tutor_system_prompt += \"You should respond in Markdown.\"\n",
    "\n",
    "test_question = \"what is 1+1\"\n",
    "def messages_for(question):\n",
    "    \n",
    "    return [\n",
    "        \n",
    "        {\"role\": \"system\", \"content\": tutor_system_prompt},\n",
    "        {\"role\": \"user\", \"content\": question}\n",
    "    ]\n",
    "def get_llama_response(for_this_question): \n",
    "    \"\"\" This function takes a question as input and returns the response from the Llama chatbot using the ollama.chat method. \"\"\"\n",
    "    try: # Get the response from the Llama chatbot\n",
    "        response = ollama.chat(model=MODEL, messages=messages_for(for_this_question))\n",
    "        return response['message']['content']\n",
    "    except Exception as e:\n",
    "        # Handle any errors that may occur (e.g., connection issues) \n",
    "        return f\"An error occurred: {e}\"\n",
    "\n",
    "print(get_llama_response(test_question))\n",
    "    "
   ]
  },
  {
   "cell_type": "code",
   "execution_count": null,
   "id": "b4d86262-3f6c-465f-91fe-31dafd43ddb6",
   "metadata": {},
   "outputs": [],
   "source": [
    "try: \n",
    "    while True:\n",
    "        # Prompt the user for a question\n",
    "        question = input(\"Please enter your question (or CTRL+C to quit): \") \n",
    "        # Get the response \n",
    "        response = get_llama_response(question) \n",
    "        # Print the response \n",
    "        print(\"LLaMA says:\", response) \n",
    "except KeyboardInterrupt: print(\"\\nExiting the loop. Goodbye!\")"
   ]
  },
  {
   "cell_type": "code",
   "execution_count": null,
   "id": "06ed7475-2eb0-4a60-b401-22ed0dbc521a",
   "metadata": {},
   "outputs": [],
   "source": []
  }
 ],
 "metadata": {
  "kernelspec": {
   "display_name": "Python 3 (ipykernel)",
   "language": "python",
   "name": "python3"
  },
  "language_info": {
   "codemirror_mode": {
    "name": "ipython",
    "version": 3
   },
   "file_extension": ".py",
   "mimetype": "text/x-python",
   "name": "python",
   "nbconvert_exporter": "python",
   "pygments_lexer": "ipython3",
   "version": "3.11.2"
  }
 },
 "nbformat": 4,
 "nbformat_minor": 5
}
