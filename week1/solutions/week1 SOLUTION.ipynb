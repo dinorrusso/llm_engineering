{
 "cells": [
  {
   "cell_type": "markdown",
   "id": "fe12c203-e6a6-452c-a655-afb8a03a4ff5",
   "metadata": {},
   "source": [
    "# End of week 1 solution\n",
    "\n",
    "To demonstrate your familiarity with OpenAI API, and also Ollama, build a tool that takes a technical question,  \n",
    "and responds with an explanation. This is a tool that you will be able to use yourself during the course!\n",
    "\n",
    "After week 2 you'll be able to add a User Interface to this tool, giving you a valuable application."
   ]
  },
  {
   "cell_type": "code",
   "execution_count": 1,
   "id": "c1070317-3ed9-4659-abe3-828943230e03",
   "metadata": {},
   "outputs": [],
   "source": [
    "# imports\n",
    "\n",
    "from dotenv import load_dotenv\n",
    "from IPython.display import Markdown, display, update_display\n",
    "from openai import OpenAI\n",
    "import ollama"
   ]
  },
  {
   "cell_type": "code",
   "execution_count": 2,
   "id": "4a456906-915a-4bfd-bb9d-57e505c5093f",
   "metadata": {},
   "outputs": [],
   "source": [
    "# constants\n",
    "\n",
    "MODEL_GPT = 'gpt-4o-mini'\n",
    "MODEL_LLAMA = 'llama3.2'"
   ]
  },
  {
   "cell_type": "code",
   "execution_count": 3,
   "id": "a8d7923c-5f28-4c30-8556-342d7c8497c1",
   "metadata": {},
   "outputs": [],
   "source": [
    "# set up environment\n",
    "\n",
    "load_dotenv()\n",
    "openai = OpenAI()\n"
   ]
  },
  {
   "cell_type": "code",
   "execution_count": 4,
   "id": "3f0d0137-52b0-47a8-81a8-11a90a010798",
   "metadata": {},
   "outputs": [],
   "source": [
    "# here is the question; type over this to ask something new\n",
    "\n",
    "question = \"\"\"\n",
    "Please explain what this code does and why:\n",
    "yield from {book.get(\"author\") for book in books if book.get(\"author\")}\n",
    "\"\"\""
   ]
  },
  {
   "cell_type": "code",
   "execution_count": 5,
   "id": "8595807b-8ae2-4e1b-95d9-e8532142e8bb",
   "metadata": {},
   "outputs": [],
   "source": [
    "# prompts\n",
    "\n",
    "system_prompt = \"You are a helpful technical tutor who answers questions about python code, software engineering, data science and LLMs\"\n",
    "user_prompt = \"Please give a detailed explanation to the following question: \" + question"
   ]
  },
  {
   "cell_type": "code",
   "execution_count": 6,
   "id": "9605cbb6-3d3f-4969-b420-7f4cae0b9328",
   "metadata": {},
   "outputs": [],
   "source": [
    "# messages\n",
    "\n",
    "messages = [\n",
    "    {\"role\": \"system\", \"content\": system_prompt},\n",
    "    {\"role\": \"user\", \"content\": user_prompt}\n",
    "]"
   ]
  },
  {
   "cell_type": "code",
   "execution_count": 7,
   "id": "60ce7000-a4a5-4cce-a261-e75ef45063b4",
   "metadata": {},
   "outputs": [
    {
     "data": {
      "text/markdown": [
       "Certainly! Let's break down the line of code you provided:\n",
       "\n",
       "python\n",
       "yield from {book.get(\"author\") for book in books if book.get(\"author\")}\n",
       "\n",
       "\n",
       "### Explanation\n",
       "\n",
       "1. **Context of `yield`**:\n",
       "   - The use of `yield from` indicates that this line is likely part of a generator function. A generator function is a function that returns an iterator and can yield multiple values during its execution, allowing it to produce items on-the-fly and pause its state.\n",
       "\n",
       "2. **Set Comprehension**:\n",
       "   - The innermost part, `{book.get(\"author\") for book in books if book.get(\"author\")}`, is a set comprehension. This creates a set from a sequence of elements.\n",
       "   - A set in Python is a collection type that automatically handles duplicates, meaning any duplicate entries will be stored only once.\n",
       "\n",
       "3. **Iterating through `books`**:\n",
       "   - `books` is expected to be an iterable (like a list) containing dictionaries, where each dictionary represents a book entry.\n",
       "   - `book.get(\"author\")` attempts to retrieve the value associated with the key `\"author\"` from each book dictionary.\n",
       "\n",
       "4. **Filtering with `if book.get(\"author\")`**:\n",
       "   - The `if book.get(\"author\")` condition filters out books that do not have an author. The `get` method from dictionaries will return `None` if the key is not present, which evaluates as `False` in the context of the `if` statement.\n",
       "   - Therefore, only books that have a non-empty (truthy) author will contribute their authors to the set.\n",
       "\n",
       "5. **Resulting Set**:\n",
       "   - The result of the set comprehension will be a set of unique authors from the list of books. Because of the nature of sets, any duplicate authors from multiple books will only appear once.\n",
       "\n",
       "6. **Yielding the Authors**:\n",
       "   - Finally, `yield from` takes the set of authors and \"yields\" each author back to the caller of the generator function, one at a time, instead of returning the entire set at once.\n",
       "\n",
       "### Example\n",
       "\n",
       "Here's a simple illustrative example:\n",
       "\n",
       "python\n",
       "books = [\n",
       "    {\"title\": \"Book A\", \"author\": \"Author 1\"},\n",
       "    {\"title\": \"Book B\", \"author\": \"Author 2\"},\n",
       "    {\"title\": \"Book C\"},  # No author\n",
       "    {\"title\": \"Book D\", \"author\": \"Author 1\"},  # Duplicate author\n",
       "]\n",
       "\n",
       "def author_generator(books):\n",
       "    yield from {book.get(\"author\") for book in books if book.get(\"author\")}\n",
       "\n",
       "for author in author_generator(books):\n",
       "    print(author)\n",
       "\n",
       "\n",
       "### Output of the Example:\n",
       "\n",
       "Author 1\n",
       "Author 2\n",
       "\n",
       "\n",
       "### Summary\n",
       "\n",
       "- The code extracts unique authors from the list of books, ignoring any book that lacks an author.\n",
       "- It efficiently manages duplicates by utilizing a set, and `yield from` allows for the values to be generated lazily (i.e., one at a time, on demand), which is efficient for the consumer of the generator.\n",
       "\n",
       "This kind of pattern is useful in many scenarios, especially when handling large datasets where you wish to iterate over items without loading everything into memory at once or when only a subset of data is needed at a time."
      ],
      "text/plain": [
       "<IPython.core.display.Markdown object>"
      ]
     },
     "metadata": {},
     "output_type": "display_data"
    }
   ],
   "source": [
    "# Get gpt-4o-mini to answer, with streaming\n",
    "\n",
    "stream = openai.chat.completions.create(model=MODEL_GPT, messages=messages,stream=True)\n",
    "    \n",
    "response = \"\"\n",
    "display_handle = display(Markdown(\"\"), display_id=True)\n",
    "for chunk in stream:\n",
    "    response += chunk.choices[0].delta.content or ''\n",
    "    response = response.replace(\"```\",\"\").replace(\"markdown\", \"\")\n",
    "    update_display(Markdown(response), display_id=display_handle.display_id)"
   ]
  },
  {
   "cell_type": "code",
   "execution_count": 8,
   "id": "8f7c8ea8-4082-4ad0-8751-3301adcf6538",
   "metadata": {},
   "outputs": [
    {
     "data": {
      "text/markdown": [
       "**Declarative Generator Expression**\n",
       "\n",
       "The given code is an example of a declarative generator expression, also known as a \"yield from\" expression. It's a concise way to express complex iteration logic in Python.\n",
       "\n",
       "Let's break it down:\n",
       "\n",
       "```python\n",
       "yield from {book.get(\"author\") for book in books if book.get(\"author\")}\n",
       "```\n",
       "\n",
       "Here's what each part does:\n",
       "\n",
       "1. `{...}`: This is an expression that generates an iterable (in this case, a dictionary).\n",
       "2. `for book in books`: This is the iteration part of the generator expression. It iterates over the `books` collection.\n",
       "3. `if book.get(\"author\")`: This is the filtering condition. The `get()` method returns `None` if the key doesn't exist in the dictionary, so this line filters out books that don't have an \"author\" key.\n",
       "4. `yield from ...`: This is where things get interesting. When used with a generator expression, it \"yields from\" the inner iterable, meaning it yields each element of the inner iterable directly. In other words, it creates a new iterator that delegates to the inner iterable.\n",
       "\n",
       "**How it works**\n",
       "\n",
       "When you run this code, Python will:\n",
       "\n",
       "1. Create an iterator over the `books` collection.\n",
       "2. For each book in the iterator:\n",
       "\t* Check if the book has an \"author\" key using `book.get(\"author\")`.\n",
       "\t* If it does, yield the author's name directly into the caller's iteration context.\n",
       "\n",
       "**Benefits**\n",
       "\n",
       "This code has several benefits:\n",
       "\n",
       "* It's concise and expressive, making it easier to read and understand.\n",
       "* It avoids creating unnecessary intermediate data structures or iterators.\n",
       "* It takes advantage of Python's generator support to lazily iterate over the results.\n",
       "\n",
       "**Equivalent Code**\n",
       "\n",
       "To illustrate the point, here's an equivalent implementation using a traditional `for` loop:\n",
       "\n",
       "```python\n",
       "authors = []\n",
       "for book in books:\n",
       "    if book.get(\"author\"):\n",
       "        authors.append(book[\"author\"])\n",
       "yield from authors\n",
       "```\n",
       "\n",
       "As you can see, the declarative generator expression is more concise and elegant.\n",
       "\n",
       "**Example Use Case**\n",
       "\n",
       "Suppose you have a list of dictionaries representing books with author information. You want to extract the authors' names without having to use unnecessary iterations or data structures:\n",
       "\n",
       "```python\n",
       "books = [\n",
       "    {\"title\": \"Book 1\", \"author\": \"John Doe\"},\n",
       "    {\"title\": \"Book 2\", \"author\": None},\n",
       "    {\"title\": \"Book 3\", \"author\": \"Jane Smith\"}\n",
       "]\n",
       "\n",
       "for author in yield from {book.get(\"author\") for book in books if book.get(\"author\")}.values():\n",
       "    print(author)\n",
       "```\n",
       "\n",
       "This code will output:\n",
       "\n",
       "```python\n",
       "John Doe\n",
       "Jane Smith\n",
       "```\n",
       "\n",
       "The declarative generator expression simplifies the iteration logic and makes it easier to understand."
      ],
      "text/plain": [
       "<IPython.core.display.Markdown object>"
      ]
     },
     "metadata": {},
     "output_type": "display_data"
    }
   ],
   "source": [
    "# Get Llama 3.2 to answer\n",
    "\n",
    "response = ollama.chat(model=MODEL_LLAMA, messages=messages)\n",
    "reply = response['message']['content']\n",
    "display(Markdown(reply))"
   ]
  },
  {
   "cell_type": "markdown",
   "id": "7e14bcdb-b928-4b14-961e-9f7d8c7335bf",
   "metadata": {},
   "source": [
    "# Congratulations!\n",
    "\n",
    "You could make it better by taking in the question using  \n",
    "`my_question = input(\"Please enter your question:\")`\n",
    "\n",
    "And then creating the prompts and making the calls interactively."
   ]
  },
  {
   "cell_type": "code",
   "execution_count": null,
   "id": "da663d73-dd2a-4fff-84df-2209cf2b330b",
   "metadata": {},
   "outputs": [],
   "source": []
  }
 ],
 "metadata": {
  "kernelspec": {
   "display_name": "Python 3 (ipykernel)",
   "language": "python",
   "name": "python3"
  },
  "language_info": {
   "codemirror_mode": {
    "name": "ipython",
    "version": 3
   },
   "file_extension": ".py",
   "mimetype": "text/x-python",
   "name": "python",
   "nbconvert_exporter": "python",
   "pygments_lexer": "ipython3",
   "version": "3.11.2"
  }
 },
 "nbformat": 4,
 "nbformat_minor": 5
}
