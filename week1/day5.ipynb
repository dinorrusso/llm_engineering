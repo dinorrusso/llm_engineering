{
 "cells": [
  {
   "cell_type": "markdown",
   "id": "a98030af-fcd1-4d63-a36e-38ba053498fa",
   "metadata": {},
   "source": [
    "# A full business solution\n",
    "\n",
    "## Now we will take our project from Day 1 to the next level\n",
    "\n",
    "### BUSINESS CHALLENGE:\n",
    "\n",
    "Create a product that builds a Brochure for a company to be used for prospective clients, investors and potential recruits.\n",
    "\n",
    "We will be provided a company name and their primary website.\n",
    "\n",
    "See the end of this notebook for examples of real-world business applications.\n",
    "\n",
    "And remember: I'm always available if you have problems or ideas! Please do reach out."
   ]
  },
  {
   "cell_type": "code",
   "execution_count": 1,
   "id": "d5b08506-dc8b-4443-9201-5f1848161363",
   "metadata": {},
   "outputs": [],
   "source": [
    "# imports\n",
    "# If these fail, please check you're running from an 'activated' environment with (llms) in the command prompt\n",
    "\n",
    "import os\n",
    "import requests\n",
    "import json\n",
    "from typing import List\n",
    "from dotenv import load_dotenv\n",
    "from bs4 import BeautifulSoup\n",
    "from IPython.display import Markdown, display, update_display\n",
    "from openai import OpenAI"
   ]
  },
  {
   "cell_type": "code",
   "execution_count": 2,
   "id": "fc5d8880-f2ee-4c06-af16-ecbc0262af61",
   "metadata": {},
   "outputs": [
    {
     "name": "stdout",
     "output_type": "stream",
     "text": [
      "API key looks good so far\n"
     ]
    }
   ],
   "source": [
    "# Initialize and constants\n",
    "\n",
    "load_dotenv()\n",
    "api_key = os.getenv('OPENAI_API_KEY')\n",
    "\n",
    "if api_key and api_key.startswith('sk-proj-') and len(api_key)>10:\n",
    "    print(\"API key looks good so far\")\n",
    "else:\n",
    "    print(\"There might be a problem with your API key? Please visit the troubleshooting notebook!\")\n",
    "    \n",
    "MODEL = 'gpt-4o-mini'\n",
    "openai = OpenAI()"
   ]
  },
  {
   "cell_type": "code",
   "execution_count": 3,
   "id": "106dd65e-90af-4ca8-86b6-23a41840645b",
   "metadata": {},
   "outputs": [],
   "source": [
    "# A class to represent a Webpage\n",
    "\n",
    "class Website:\n",
    "    \"\"\"\n",
    "    A utility class to represent a Website that we have scraped, now with links\n",
    "    \"\"\"\n",
    "\n",
    "    def __init__(self, url):\n",
    "        self.url = url\n",
    "        response = requests.get(url)\n",
    "        self.body = response.content\n",
    "        soup = BeautifulSoup(self.body, 'html.parser')\n",
    "        self.title = soup.title.string if soup.title else \"No title found\"\n",
    "        if soup.body:\n",
    "            for irrelevant in soup.body([\"script\", \"style\", \"img\", \"input\"]):\n",
    "                irrelevant.decompose()\n",
    "            self.text = soup.body.get_text(separator=\"\\n\", strip=True)\n",
    "        else:\n",
    "            self.text = \"\"\n",
    "        links = [link.get('href') for link in soup.find_all('a')]\n",
    "        self.links = [link for link in links if link]\n",
    "\n",
    "    def get_contents(self):\n",
    "        return f\"Webpage Title:\\n{self.title}\\nWebpage Contents:\\n{self.text}\\n\\n\""
   ]
  },
  {
   "cell_type": "code",
   "execution_count": 4,
   "id": "e30d8128-933b-44cc-81c8-ab4c9d86589a",
   "metadata": {},
   "outputs": [
    {
     "data": {
      "text/plain": [
       "['https://edwarddonner.com/',\n",
       " 'https://edwarddonner.com/outsmart/',\n",
       " 'https://edwarddonner.com/about-me-and-about-nebula/',\n",
       " 'https://edwarddonner.com/posts/',\n",
       " 'https://edwarddonner.com/',\n",
       " 'https://news.ycombinator.com',\n",
       " 'https://nebula.io/?utm_source=ed&utm_medium=referral',\n",
       " 'https://www.prnewswire.com/news-releases/wynden-stark-group-acquires-nyc-venture-backed-tech-startup-untapt-301269512.html',\n",
       " 'https://patents.google.com/patent/US20210049536A1/',\n",
       " 'https://www.linkedin.com/in/eddonner/',\n",
       " 'https://edwarddonner.com/2024/11/13/llm-engineering-resources/',\n",
       " 'https://edwarddonner.com/2024/11/13/llm-engineering-resources/',\n",
       " 'https://edwarddonner.com/2024/10/16/from-software-engineer-to-ai-data-scientist-resources/',\n",
       " 'https://edwarddonner.com/2024/10/16/from-software-engineer-to-ai-data-scientist-resources/',\n",
       " 'https://edwarddonner.com/2024/08/06/outsmart/',\n",
       " 'https://edwarddonner.com/2024/08/06/outsmart/',\n",
       " 'https://edwarddonner.com/2024/06/26/choosing-the-right-llm-resources/',\n",
       " 'https://edwarddonner.com/2024/06/26/choosing-the-right-llm-resources/',\n",
       " 'https://edwarddonner.com/',\n",
       " 'https://edwarddonner.com/outsmart/',\n",
       " 'https://edwarddonner.com/about-me-and-about-nebula/',\n",
       " 'https://edwarddonner.com/posts/',\n",
       " 'mailto:hello@mygroovydomain.com',\n",
       " 'https://www.linkedin.com/in/eddonner/',\n",
       " 'https://twitter.com/edwarddonner',\n",
       " 'https://www.facebook.com/edward.donner.52']"
      ]
     },
     "execution_count": 4,
     "metadata": {},
     "output_type": "execute_result"
    }
   ],
   "source": [
    "ed = Website(\"https://edwarddonner.com\")\n",
    "ed.links"
   ]
  },
  {
   "cell_type": "markdown",
   "id": "1771af9c-717a-4fca-bbbe-8a95893312c3",
   "metadata": {},
   "source": [
    "## First step: Have GPT-4o-mini figure out which links are relevant\n",
    "\n",
    "### Use a call to gpt-4o-mini to read the links on a webpage, and respond in structured JSON.  \n",
    "It should decide which links are relevant, and replace relative links such as \"/about\" with \"https://company.com/about\".  \n",
    "We will use \"one shot prompting\" in which we provide an example of how it should respond in the prompt.\n",
    "\n",
    "This is an excellent use case for an LLM, because it requires nuanced understanding. Imagine trying to code this without LLMs by parsing and analyzing the webpage - it would be very hard!\n",
    "\n",
    "Sidenote: there is a more advanced technique called \"Structured Outputs\" in which we require the model to respond according to a spec. We cover this technique in Week 8 during our autonomous Agentic AI project."
   ]
  },
  {
   "cell_type": "code",
   "execution_count": 5,
   "id": "6957b079-0d96-45f7-a26a-3487510e9b35",
   "metadata": {},
   "outputs": [],
   "source": [
    "link_system_prompt = \"You are provided with a list of links found on a webpage. \\\n",
    "You are able to decide which of the links would be most relevant to include in a brochure about the company, \\\n",
    "such as links to an About page, or a Company page, or Careers/Jobs pages.\\n\"\n",
    "link_system_prompt += \"You should respond in JSON as in this example:\"\n",
    "link_system_prompt += \"\"\"\n",
    "{\n",
    "    \"links\": [\n",
    "        {\"type\": \"about page\", \"url\": \"https://full.url/goes/here/about\"},\n",
    "        {\"type\": \"careers page\": \"url\": \"https://another.full.url/careers\"}\n",
    "    ]\n",
    "}\n",
    "\"\"\""
   ]
  },
  {
   "cell_type": "code",
   "execution_count": 6,
   "id": "b97e4068-97ed-4120-beae-c42105e4d59a",
   "metadata": {},
   "outputs": [
    {
     "name": "stdout",
     "output_type": "stream",
     "text": [
      "You are provided with a list of links found on a webpage. You are able to decide which of the links would be most relevant to include in a brochure about the company, such as links to an About page, or a Company page, or Careers/Jobs pages.\n",
      "You should respond in JSON as in this example:\n",
      "{\n",
      "    \"links\": [\n",
      "        {\"type\": \"about page\", \"url\": \"https://full.url/goes/here/about\"},\n",
      "        {\"type\": \"careers page\": \"url\": \"https://another.full.url/careers\"}\n",
      "    ]\n",
      "}\n",
      "\n"
     ]
    }
   ],
   "source": [
    "print(link_system_prompt)"
   ]
  },
  {
   "cell_type": "code",
   "execution_count": 7,
   "id": "8e1f601b-2eaf-499d-b6b8-c99050c9d6b3",
   "metadata": {},
   "outputs": [],
   "source": [
    "def get_links_user_prompt(website):\n",
    "    user_prompt = f\"Here is the list of links on the website of {website.url} - \"\n",
    "    user_prompt += \"please decide which of these are relevant web links for a brochure about the company, respond with the full https URL in JSON format. \\\n",
    "Do not include Terms of Service, Privacy, email links.\\n\"\n",
    "    user_prompt += \"Links (some might be relative links):\\n\"\n",
    "    user_prompt += \"\\n\".join(website.links)\n",
    "    return user_prompt"
   ]
  },
  {
   "cell_type": "code",
   "execution_count": 8,
   "id": "6bcbfa78-6395-4685-b92c-22d592050fd7",
   "metadata": {},
   "outputs": [
    {
     "name": "stdout",
     "output_type": "stream",
     "text": [
      "Here is the list of links on the website of https://edwarddonner.com - please decide which of these are relevant web links for a brochure about the company, respond with the full https URL in JSON format. Do not include Terms of Service, Privacy, email links.\n",
      "Links (some might be relative links):\n",
      "https://edwarddonner.com/\n",
      "https://edwarddonner.com/outsmart/\n",
      "https://edwarddonner.com/about-me-and-about-nebula/\n",
      "https://edwarddonner.com/posts/\n",
      "https://edwarddonner.com/\n",
      "https://news.ycombinator.com\n",
      "https://nebula.io/?utm_source=ed&utm_medium=referral\n",
      "https://www.prnewswire.com/news-releases/wynden-stark-group-acquires-nyc-venture-backed-tech-startup-untapt-301269512.html\n",
      "https://patents.google.com/patent/US20210049536A1/\n",
      "https://www.linkedin.com/in/eddonner/\n",
      "https://edwarddonner.com/2024/11/13/llm-engineering-resources/\n",
      "https://edwarddonner.com/2024/11/13/llm-engineering-resources/\n",
      "https://edwarddonner.com/2024/10/16/from-software-engineer-to-ai-data-scientist-resources/\n",
      "https://edwarddonner.com/2024/10/16/from-software-engineer-to-ai-data-scientist-resources/\n",
      "https://edwarddonner.com/2024/08/06/outsmart/\n",
      "https://edwarddonner.com/2024/08/06/outsmart/\n",
      "https://edwarddonner.com/2024/06/26/choosing-the-right-llm-resources/\n",
      "https://edwarddonner.com/2024/06/26/choosing-the-right-llm-resources/\n",
      "https://edwarddonner.com/\n",
      "https://edwarddonner.com/outsmart/\n",
      "https://edwarddonner.com/about-me-and-about-nebula/\n",
      "https://edwarddonner.com/posts/\n",
      "mailto:hello@mygroovydomain.com\n",
      "https://www.linkedin.com/in/eddonner/\n",
      "https://twitter.com/edwarddonner\n",
      "https://www.facebook.com/edward.donner.52\n"
     ]
    }
   ],
   "source": [
    "print(get_links_user_prompt(ed))"
   ]
  },
  {
   "cell_type": "code",
   "execution_count": 11,
   "id": "a29aca19-ca13-471c-a4b4-5abbfa813f69",
   "metadata": {},
   "outputs": [],
   "source": [
    "def get_links(url):\n",
    "    website = Website(url)\n",
    "    response = openai.chat.completions.create(\n",
    "        model=MODEL,\n",
    "        messages=[\n",
    "            {\"role\": \"system\", \"content\": link_system_prompt},\n",
    "            {\"role\": \"user\", \"content\": get_links_user_prompt(website)}\n",
    "      ],\n",
    "        response_format={\"type\": \"json_object\"}\n",
    "    )\n",
    "    result = response.choices[0].message.content\n",
    "    return json.loads(result)"
   ]
  },
  {
   "cell_type": "code",
   "execution_count": 12,
   "id": "74a827a0-2782-4ae5-b210-4a242a8b4cc2",
   "metadata": {},
   "outputs": [
    {
     "data": {
      "text/plain": [
       "['/',\n",
       " '/claude',\n",
       " '/team',\n",
       " '/enterprise',\n",
       " '/api',\n",
       " '/pricing',\n",
       " '/research',\n",
       " '/company',\n",
       " '/careers',\n",
       " '/news',\n",
       " 'https://www.anthropic.com/research#entry:8@1:url',\n",
       " 'https://www.anthropic.com/claude',\n",
       " 'https://claude.ai/',\n",
       " '/api',\n",
       " '/news/3-5-models-and-computer-use',\n",
       " '/claude/sonnet',\n",
       " '/claude/haiku',\n",
       " '/news/claude-for-enterprise',\n",
       " '/research/constitutional-ai-harmlessness-from-ai-feedback',\n",
       " '/news/core-views-on-ai-safety',\n",
       " '/jobs',\n",
       " '/',\n",
       " '/claude',\n",
       " '/api',\n",
       " '/team',\n",
       " '/pricing',\n",
       " '/research',\n",
       " '/company',\n",
       " '/customers',\n",
       " '/news',\n",
       " '/careers',\n",
       " 'mailto:press@anthropic.com',\n",
       " 'https://support.anthropic.com/',\n",
       " 'https://status.anthropic.com/',\n",
       " '/supported-countries',\n",
       " 'https://twitter.com/AnthropicAI',\n",
       " 'https://www.linkedin.com/company/anthropicresearch',\n",
       " 'https://www.youtube.com/@anthropic-ai',\n",
       " '/legal/consumer-terms',\n",
       " '/legal/commercial-terms',\n",
       " '/legal/privacy',\n",
       " '/legal/aup',\n",
       " '/responsible-disclosure-policy',\n",
       " 'https://trust.anthropic.com/']"
      ]
     },
     "execution_count": 12,
     "metadata": {},
     "output_type": "execute_result"
    }
   ],
   "source": [
    "anthropic = Website(\"https://anthropic.com\")\n",
    "anthropic.links"
   ]
  },
  {
   "cell_type": "code",
   "execution_count": 13,
   "id": "d3d583e2-dcc4-40cc-9b28-1e8dbf402924",
   "metadata": {},
   "outputs": [
    {
     "data": {
      "text/plain": [
       "{'links': [{'type': 'about page', 'url': 'https://anthropic.com/company'},\n",
       "  {'type': 'careers page', 'url': 'https://anthropic.com/careers'},\n",
       "  {'type': 'team page', 'url': 'https://anthropic.com/team'},\n",
       "  {'type': 'research page', 'url': 'https://anthropic.com/research'},\n",
       "  {'type': 'product page', 'url': 'https://anthropic.com/claude'}]}"
      ]
     },
     "execution_count": 13,
     "metadata": {},
     "output_type": "execute_result"
    }
   ],
   "source": [
    "get_links(\"https://anthropic.com\")"
   ]
  },
  {
   "cell_type": "markdown",
   "id": "0d74128e-dfb6-47ec-9549-288b621c838c",
   "metadata": {},
   "source": [
    "## Second step: make the brochure!\n",
    "\n",
    "Assemble all the details into another prompt to GPT4-o"
   ]
  },
  {
   "cell_type": "code",
   "execution_count": 14,
   "id": "85a5b6e2-e7ef-44a9-bc7f-59ede71037b5",
   "metadata": {},
   "outputs": [],
   "source": [
    "def get_all_details(url):\n",
    "    result = \"Landing page:\\n\"\n",
    "    result += Website(url).get_contents()\n",
    "    links = get_links(url)\n",
    "    print(\"Found links:\", links)\n",
    "    for link in links[\"links\"]:\n",
    "        result += f\"\\n\\n{link['type']}\\n\"\n",
    "        result += Website(link[\"url\"]).get_contents()\n",
    "    return result"
   ]
  },
  {
   "cell_type": "code",
   "execution_count": null,
   "id": "5099bd14-076d-4745-baf3-dac08d8e5ab2",
   "metadata": {},
   "outputs": [],
   "source": [
    "print(get_all_details(\"https://anthropic.com\"))"
   ]
  },
  {
   "cell_type": "code",
   "execution_count": 25,
   "id": "9b863a55-f86c-4e3f-8a79-94e24c1a8cf2",
   "metadata": {},
   "outputs": [],
   "source": [
    "# system_prompt = \"You are an assistant that analyzes the contents of several relevant pages from a company website \\\n",
    "# and creates a short brochure about the company for prospective customers, investors and recruits. Respond in markdown.\\\n",
    "# Include details of company culture, customers and careers/jobs if you have the information.\"\n",
    "\n",
    "# Or uncomment the lines below for a more humorous brochure - this demonstrates how easy it is to incorporate 'tone':\n",
    "\n",
    "system_prompt = \"You are an assistant that analyzes the contents of several relevant pages from a company website \\\n",
    "and creates a short humorous, entertaining, jokey brochure about the company for prospective customers, investors and recruits. Respond in markdown.\\\n",
    "Include details of company culture, customers and careers/jobs if you have the information.\"\n"
   ]
  },
  {
   "cell_type": "code",
   "execution_count": 54,
   "id": "6ab83d92-d36b-4ce0-8bcc-5bb4c2f8ff23",
   "metadata": {},
   "outputs": [],
   "source": [
    "def get_brochure_user_prompt(company_name, url):\n",
    "    user_prompt = f\"You are looking at a company called: {company_name}\\n\"\n",
    "    user_prompt += f\"Here are the contents of its landing page and other relevant pages; use this information to build a short brochure of the company in markdown.\\n\"\n",
    "    user_prompt += f\"The brochure should have a Spanish translation inline after every section.  It should be in Italics.\\n\"\n",
    "    user_prompt += f\"Add a section at the end called Our Humor and provide a corny joke or funny short story - no more than a paragraph\"\n",
    "    user_prompt += get_all_details(url)\n",
    "  \n",
    "    \n",
    "    user_prompt = user_prompt[:20_000] # Truncate if more than 20,000 characters\n",
    "    return user_prompt"
   ]
  },
  {
   "cell_type": "code",
   "execution_count": 55,
   "id": "cd909e0b-1312-4ce2-a553-821e795d7572",
   "metadata": {},
   "outputs": [
    {
     "name": "stdout",
     "output_type": "stream",
     "text": [
      "Found links: {'links': [{'type': 'about page', 'url': 'https://anthropic.com/company'}, {'type': 'careers page', 'url': 'https://anthropic.com/careers'}, {'type': 'team page', 'url': 'https://anthropic.com/team'}]}\n"
     ]
    },
    {
     "data": {
      "text/plain": [
       "\"You are looking at a company called: Anthropic\\nHere are the contents of its landing page and other relevant pages; use this information to build a short brochure of the company in markdown.\\nThe brochure should have a Spanish translation inline after every section.  It should be in Italics.\\nAdd a section at the end called Our Humor and provide a corny joke or funny short story - no more than a paragraphLanding page:\\nWebpage Title:\\nHome \\\\ Anthropic\\nWebpage Contents:\\nClaude\\nOverview\\nTeam\\nEnterprise\\nAPI\\nPricing\\nResearch\\nCompany\\nCareers\\nNews\\nAI\\nresearch\\nand\\nproducts\\nthat put safety at the frontier\\nClaude.ai\\nMeet Claude 3.5 Sonnet\\nClaude 3.5 Sonnet, our most intelligent AI model, is now available.\\nTalk to Claude\\nAPI\\nBuild with Claude\\nStart using Claude to drive efficiency and create new revenue streams.\\nLearn more\\nAnnouncements\\nIntroducing computer use, a new Claude 3.5 Sonnet, and Claude 3.5 Haiku\\nOct 22, 2024\\nModel updates\\n3.5 Sonnet\\n3.5 Haiku\\nOur Work\\nProduct\\nClaude for Enterprise\\nSep 4, 2024\\nAlignment\\n·\\nResearch\\nConstitutional AI: Harmlessness from AI Feedback\\nDec 15, 2022\\nAnnouncements\\nCore Views on AI Safety: When, Why, What, and How\\nMar 8, 2023\\nWork with Anthropic\\nAnthropic is an AI safety and research company based in San Francisco. Our interdisciplinary team has experience across ML, physics, policy, and product. Together, we generate research and create reliable, beneficial AI systems.\\nSee open roles\\nClaude\\nAPI\\nTeam\\nPricing\\nResearch\\nCompany\\nCustomers\\nNews\\nCareers\\nPress Inquiries\\nSupport\\nStatus\\nAvailability\\nTwitter\\nLinkedIn\\nYouTube\\nTerms of Service – Consumer\\nTerms of Service – Commercial\\nPrivacy Policy\\nUsage Policy\\nResponsible Disclosure Policy\\nCompliance\\nPrivacy Choices\\n© 2024 Anthropic PBC\\n\\n\\n\\nabout page\\nWebpage Title:\\nCompany \\\\ Anthropic\\nWebpage Contents:\\nClaude\\nOverview\\nTeam\\nEnterprise\\nAPI\\nPricing\\nResearch\\nCompany\\nCareers\\nNews\\nMaking AI systems\\nyou can rely on\\nAnthropic is an AI safety and research company. We build reliable, interpretable, and steerable AI systems.\\nJoin us\\nOur Purpose\\nWe believe AI will have a vast impact on the world. Anthropic is dedicated to building systems that people can rely on and generating research about the opportunities and risks of AI.\\nWe Build Safer Systems\\nWe aim to build frontier AI systems that are reliable, interpretable, and steerable. We conduct frontier research, develop and apply a variety of safety techniques, and deploy the resulting systems via a set of partnerships and products.\\nSafety Is a Science\\nWe treat AI safety as a systematic science, conducting research, applying it to our products, feeding those insights back into our research, and regularly sharing what we learn with the world along the way.\\nInterdisciplinary\\nAnthropic is a collaborative team of researchers, engineers, policy experts, business leaders and operators, who bring our experience from many different domains to our work.\\nAI Companies are One Piece of a Big Puzzle\\nAI has the potential to fundamentally change how the world works. We view ourselves as just one piece of this evolving puzzle. We collaborate with civil society, government, academia, nonprofits and industry to promote safety industry-wide.\\nThe Team\\nWe’re a team of researchers, engineers, policy experts and operational leaders, with experience spanning a variety of disciplines, all working together to build reliable and understandable AI systems.\\nResearch\\nWe conduct frontier AI research across a variety of modalities, and explore novel and emerging safety research areas from interpretability to RL from human feedback to policy and societal impacts analysis.\\nPolicy\\nWe think about the impacts of our work and strive to communicate what we’re seeing at the frontier to policymakers and civil society in the US and abroad to help promote safe and reliable AI.\\nProduct\\nWe translate our research into tangible, practical tools like Claude that benefit businesses, nonprofits and civil society groups and their clients and people around the globe.\\nOperations\\nOur people, finance, legal, and recruiting teams are the human engines that make Anthropic go. We’ve had previous careers at NASA, startups, and the armed forces and our diverse experiences help make Anthropic a great place to work (and we love plants!).\\nOur Values\\n01\\nHere for the mission\\nAnthropic exists for our mission: to ensure transformative AI helps people and society flourish. Progress this decade may be rapid, and we expect increasingly capable systems to pose novel challenges. We pursue our mission by building frontier systems, studying their behaviors, working to responsibly deploy them, and regularly sharing our safety insights. We collaborate with other projects and stakeholders seeking a similar outcome.\\n02\\nUnusually high trust\\nOur company is an unusually high trust environment: we assume good faith, disagree kindly, and prioritize honesty. We expect emotional maturity and intellectual openness. At its best, our trust enables us to make better decisions as an organization than any one of us could as individuals.\\n03\\nOne big team\\nCollaboration is central to our work, culture, and value proposition. While we have many teams at Anthropic, we feel the broader sense in which we are all on the same team working together towards the mission. Leadership sets the strategy, with broad input from everyone, and trusts each piece of the organization to pursue these goals in their unique style. Individuals commonly contribute to work across many different areas.\\n04\\nDo the simple thing that works\\nWe celebrate trying the simple thing before the clever, novel thing. We embrace pragmatism - sensible, practical approaches that acknowledge tradeoffs. We love empiricism - finding out what actually works by trying it - and apply this to our research, our engineering and our collaboration. We aim to be open about what we understand and what we don’t.\\nGovernance\\nAnthropic is a Public Benefit Corporation, whose purpose is the responsible development and maintenance of advanced AI for the long-term benefit of humanity. Our Board of Directors is elected by stockholders and our Long-Term Benefit Trust, as explained\\nhere.\\nCurrent members of the Board and the Long-Term Benefit Trust (LTBT) are listed below.\\nAnthropic Board of Directors\\nDario Amodei, Daniela Amodei, Yasmin Razavi, and Jay Kreps.\\nLTBT Trustees\\nNeil Buddy Shah, Kanika Bahl, and Zach Robinson.\\nCompany News\\nSee All\\nAnnouncements\\nPowering the next generation of AI development with AWS\\nNov 22, 2024\\nAnnouncements\\nClaude 3.5 Sonnet on GitHub Copilot\\nOct 29, 2024\\nAnnouncements\\n·\\nProduct\\nDeveloping a computer use model\\nOct 22, 2024\\nWant to help us build the future of safe AI?\\nJoin us\\nClaude\\nAPI\\nTeam\\nPricing\\nResearch\\nCompany\\nCustomers\\nNews\\nCareers\\nPress Inquiries\\nSupport\\nStatus\\nAvailability\\nTwitter\\nLinkedIn\\nYouTube\\nTerms of Service – Consumer\\nTerms of Service – Commercial\\nPrivacy Policy\\nUsage Policy\\nResponsible Disclosure Policy\\nCompliance\\nPrivacy Choices\\n© 2024 Anthropic PBC\\n\\n\\n\\ncareers page\\nWebpage Title:\\nCareers \\\\ Anthropic\\nWebpage Contents:\\nClaude\\nOverview\\nTeam\\nEnterprise\\nAPI\\nPricing\\nResearch\\nCompany\\nCareers\\nNews\\nJoin the team\\nmaking AI safe\\nWe’re a public benefit corporation headquartered in San Francisco. Our team’s experience spans a variety of backgrounds and disciplines, from physics and machine learning to public policy and business. We work as a cohesive team that collectively forecasts the impact and tractability of research ideas in advancing our mission.\\nSee open roles\\nWhat We Offer\\nHealth & Wellness\\nAt Anthropic, we believe that supporting our employees is crucial to our collective success and wellbeing. That's why we offer a range of benefits to best support you and your family, now and in the future.\\nComprehensive health, dental, and vision insurance for you and your dependents\\nInclusive fertility benefits via Carrot Fertility\\n22 weeks of paid parental leave\\nFlexible paid time off and absence policies\\nGenerous mental health support for you and your dependents\\nCompensation & Support\\nOur goal is to foster an environment where you can thrive professionally while feeling confident that you and your loved ones are taken care of.\\nCompetitive salary and equity packages\\nOptional equity donation matching at a 1:1 ratio, up to 25% of your equity grant\\nRobust retirement plans and salary sacrifice programs with market competitive matching\\nLife and income protection plans\\nAdditional Benefits\\n$500/month flexible wellness and time saver stipend\\nCommuter benefits\\nAnnual education stipend\\nHome office stipends\\nRelocation support for those moving for Anthropic\\nDaily meals and snacks in the office\\nHow We Hire\\nThe interview process at Anthropic varies based on role and candidate, but our standard process looks like this:\\nStep 1\\nResume\\nSubmit your resume via our website.\\nStep 2\\nExploratory chat\\nYou’ll have a chat with one of our staff to discuss your career interests and relevant experience, and learn more about Anthropic.\\nStep 3\\nSkills Assessment\\nFor technical roles, you’ll have a one-hour technical screening interview.\\nFor operations or policy roles, you’ll get a take-home assignment. These typically involve writing responses to several role-relevant questions; they may occasionally require some outside research. Assignments usually take between 2-5 hours, depending on the role.\\nWe include this to minimize bias and make well-informed hiring decisions. We think seeing a candidate’s work helps us assess how they might actually perform on the job; similarly, the assignment gives candidates a better idea of what their work at Anthropic might entail. If a candidate likes working through their take-home, that is one indicator that they would enjoy taking on the role, and vice versa.\\nWe recognize that completing work assignments requires time and effort, and that they are not perfectly reflective of the role’s work. Nonetheless, we think that work tests are a useful complement to interviews and reference checks.\\nStep 4\\nTeam Screen\\nYou'll have a conversation with either the Hiring Manager or a member of your potential team.\\nStep 5\\nInterview Panel\\nFor technical roles, you’ll have 3-4 more one-hour technical interviews, plus a culture interview.\\nFor operations or policy roles, you’ll have 3-5 hours of interviews, including a culture interview.\\nStep 6\\nFinal Checks\\nWe’ll ask for some references, and have you chat with our leadership.\\nStep 7\\nOffer\\nWe’ll make you an offer!\\nTechnical Interviews\\nThe novel challenges we think about at Anthropic demand diverse expertise and perspectives. Our interview process is designed to identify thoughtful candidates who bring unique strengths to our multidisciplinary team. If you think this may describe you, we’d love to hear from you regardless of your background or experience.\\nOne of the most common questions we get is about whether it is worth applying to work at Anthropic if you have not worked on modern machine learning systems in the past. Yes! For some roles, ML experience is expected, but many technical staff have arrived at Anthropic with no machine learning experience. If you aren’t sure about the ML experience needed for your role, ask your recruiter.\\nWe use shared environments like Colab and Replit for our programming-focused interviews. We’ll be very interested in how you think through each problem and analyze the tradeoffs between possible approaches, and we’ll also expect you to write, run, and debug your solutions. You’ll be allowed to look things up in documentation or on the web, just like you usually can (which is why we’ll ask you to share your screen throughout each interview); but it’s still important to be familiar with basic syntax, standard libraries, and common idioms in the language you’re interviewing in, so that looking things up doesn’t consume too much time. Your interview process will also include non-technical questions about your experience and what motivates you, and, of course, you’ll have time to ask us about Anthropic! We can’t wait to meet you.\\nOther Things\\nEngineers here do lots of research, and researchers do lots of engineering\\nWhile there’s historically been a division between engineering and research in machine learning, we think that boundary has dissolved with the advent of large models. The distribution of candidates we interview is strongly bimodal in both engineering and research experience however, and we have necessarily tailored our interview structure to that.\\nIf you’ve an engineering background, please apply as an engineer. You’ll perform much better in the interviews, and if you join you’ll have as much input to Anthropic’s direction and interests as anyone else.\\nAs evidence towards this: all of our papers have engineers as authors, and often as first author. Research and engineering hires all share a single title - ‘Member of Technical Staff’.\\nWe value direct evidence of ability\\nIf you’ve done interesting independent research, written an insightful blog post, or made substantial contributions to open-source software, put that at the top of your resume!\\nFeedback\\nWe do not provide feedback on resumes or interviews.\\nVisas\\nAnthropic sponsors visas! We aren't able to sponsor them for every role and every candidate; operations roles are especially difficult to support. But if we make you an offer, we will make every effort to get you into the United States, and we retain an immigration lawyer to help with this.\\nGreen cards\\nOnce you’re eligible, we’re also keen to sponsor green cards!\\nWe do not require PhDs, degrees, or previous ML experience\\nAbout half of Anthropic technical staff have a PhD of some sort; about half had prior experience in ML. We have several brilliant colleagues who never went to college.\\nRemote interviewing\\nAll our interviews are conducted over Google Meet. We prefer PST office hours, but we can be flexible if that’s difficult for you.\\nRe-applying\\nSimilarly, if interviews don’t work out this time, you’re welcome to re-apply after 12 months, and earlier if something materially changes about your experience or skills.\\nRemote work\\nAnthropic staff all come to the office regularly. Most staff live in the Bay Area, though a few live further away and come in for one week a month. We also understand that moving can take time, so as a transitional phase some folks start while fully remote.\\nOffer timing\\nIf we make an offer, we’re happy to give you time to think about it and finish up any other interview processes you’re going through.\\nInternships\\nWe do not offer internships.\\nCandidate Privacy Policy\\nUS Candidate Privacy Policy\\nUK Employee and Candidate Privacy Policy\\nClaude\\nAPI\\nTeam\\nPricing\\nResearch\\nCompany\\nCustomers\\nNews\\nCareers\\nPress Inquiries\\nSupport\\nStatus\\nAvailability\\nTwitter\\nLinkedIn\\nYouTube\\nTerms of Service – Consumer\\nTerms of Service – Commercial\\nPrivacy Policy\\nUsage Policy\\nResponsible Disclosure Policy\\nCompliance\\nPrivacy Choices\\n© 2024 Anthropic PBC\\n\\n\\n\\nteam page\\nWebpage Title:\\nTeam up with Claude \\\\ Anthropic\\nWebpage Contents:\\nClaude\\nOverview\\nTeam\\nEnterprise\\nAPI\\nPricing\\nResearch\\nCompany\\nCareers\\nNews\\nTry Claude\\nTeam up with Claude\\nShorten the path from idea to impact with an AI assistant that taps into your team’s shared expertise.\\nGet started\\nRequest demo\\nEasy collaboration for better outcomes\\nClaude doesn’t just speed up daily tasks like writing emails or docs. It’s a virtual teammate that moves work forward using your team’s knowledge.\\nCreate with Claude\\nClaude can be a sounding board for your ideas, help you generate new ones, and pull insights from data in a snap.\\nPrime the canvas\\nUse Projects to ground Claude in specific knowledge that helps you produce higher-quality work with less effort.\\nSpark inspiration\\nShare your best chats with Claude across the team to spark creativity and improve your project deliverables.\\nTransform how you work\\nClaude makes work more productive—whether you need a partner for deep work, a creative collaborator, or an assistant for daily tasks.\\nCreate with Claude\\nDraft and iterate on documents, code and websites, and images alongside your chat with Artifacts.\\nWrite and debug code\\nCreate marketing campaigns\\nDraft job descriptions\\nBuild interactive visualizations\\nTransform how your team works\\nClaude can serve as your go-to expert, empowering each team member with shared knowledge from all across the organization.\\nPrime the canvas\\nCreate Projects and add knowledge so each person on the team can deliver expert-level results.\\nFind and summarize information faster\\nUse Claude as your subject-matter expert\\nExpand how each teammate can contribute\\nSpark inspiration\\nShare your best chats with everyone on the Project to spark better ideas, iterate on Artifacts, and move work forward.\\nBrainstorm on new product ideas\\nDiscuss insights from user interviews\\nCollaborate on hard research questions\\nEvery team can work with Claude\\nEngineering\\nGenerate code snippets in seconds\\nCreate clear, comprehensive docs with no effort\\nGet help debugging even the most complex issues\\nTurn product feedback into roadmap items faster\\nSupport\\nResolve customer issues in record time\\nCraft personalized responses effortlessly\\nBuild a dynamic, user-friendly knowledge base\\nGenerate insightful metrics reports instantly\\nMarketing\\nCreate engaging content tailored to your audience\\nSegment customers with pinpoint accuracy\\nAnalyze competitors with unparalleled depth\\nOptimize campaigns for maximum ROI\\nSales\\nCustomize pitches for any customer segment\\nUncover hidden sales trends effortlessly\\nDraft compelling follow-up emails in seconds\\nGet comprehensive competitor insights on demand\\nBy leveraging content from our help center in Projects, we were able to generate comprehensive standard operating procedures for our core workflows in just a few hours—a task that previously took our team weeks to complete.\\nBradley Silicani\\nCOO, Anrok\\nClaude Team is transforming our way of working at North Highland. Claude is a truly exceptional writer that has helped our team complete content creation and analysis tasks up to 5x faster than before—turning what was once two weeks of writing and research into minutes of work.\\nLuka Anic\\nSenior Director, Technical AI Program and Product Manager, North Highland\\nGenerating content, completing creative tasks, and creating summarized reports is much easier than before. There are many other areas of our business—like engineering, legal, risk and compliance—where we're excited to see what Claude can do.\\nOlga Pirog\\nHead of AI Transformation, IG Group\\nJoin the teams transforming with Claude\\nSee Pricing\\nClaude\\nAPI\\nTeam\\nPricing\\nResearch\\nCompany\\nCustomers\\nNews\\nCareers\\nPress Inquiries\\nSupport\\nStatus\\nAvailability\\nTwitter\\nLinkedIn\\nYouTube\\nTerms of Service – Consumer\\nTerms of Service – Commercial\\nPrivacy Policy\\nUsage Policy\\nResponsible Disclosure Policy\\nCompliance\\nPrivacy Choices\\n© 2024 Anthropic PBC\\n\\n\""
      ]
     },
     "execution_count": 55,
     "metadata": {},
     "output_type": "execute_result"
    }
   ],
   "source": [
    "get_brochure_user_prompt(\"Anthropic\", \"https://anthropic.com\")"
   ]
  },
  {
   "cell_type": "code",
   "execution_count": 56,
   "id": "e44de579-4a1a-4e6a-a510-20ea3e4b8d46",
   "metadata": {},
   "outputs": [],
   "source": [
    "def create_brochure(company_name, url):\n",
    "    response = openai.chat.completions.create(\n",
    "        model=MODEL,\n",
    "        messages=[\n",
    "            {\"role\": \"system\", \"content\": system_prompt},\n",
    "            {\"role\": \"user\", \"content\": get_brochure_user_prompt(company_name, url)}\n",
    "          ],\n",
    "    )\n",
    "    result = response.choices[0].message.content\n",
    "    display(Markdown(result))"
   ]
  },
  {
   "cell_type": "code",
   "execution_count": 57,
   "id": "e093444a-9407-42ae-924a-145730591a39",
   "metadata": {},
   "outputs": [
    {
     "name": "stdout",
     "output_type": "stream",
     "text": [
      "Found links: {'links': [{'type': 'about page', 'url': 'https://anthropic.com/company'}, {'type': 'careers page', 'url': 'https://anthropic.com/careers'}, {'type': 'team page', 'url': 'https://anthropic.com/team'}, {'type': 'research page', 'url': 'https://anthropic.com/research'}, {'type': 'enterprise page', 'url': 'https://anthropic.com/enterprise'}, {'type': 'api page', 'url': 'https://anthropic.com/api'}, {'type': 'pricing page', 'url': 'https://anthropic.com/pricing'}]}\n"
     ]
    },
    {
     "data": {
      "text/markdown": [
       "# Welcome to Anthropic!\n",
       "*¡Bienvenido a Anthropic!*\n",
       "\n",
       "**Where AI Safety Takes the Spotlight!**  \n",
       "*Donde la seguridad de la IA toma el centro del escenario!*\n",
       "\n",
       "---\n",
       "\n",
       "### Meet Claude!\n",
       "*¡Conoce a Claude!*\n",
       "\n",
       "You’ve heard about ChatGPT, now let’s meet Claude! Our chatty AI partner, Claude 3.5 Sonnet, is not just smart—he's also great at poetry! With Claude at your side, your emails will flow like Shakespearean sonnets (or at least they'll be typo-free)!  \n",
       "*(Has oído hablar de ChatGPT, ahora conozcamos a Claude. ¡Nuestro compañero de IA parlante, Claude 3.5 Sonnet, no solo es inteligente, también es genial con la poesía! ¡Con Claude a tu lado, tus correos electrónicos fluirán como sonetos de Shakespeare (o al menos estarán sin errores tipográficos)!)*\n",
       "\n",
       "---\n",
       "\n",
       "### Our Purpose: AI for Good!\n",
       "*Nuestro Propósito: IA para el Bien!*\n",
       "\n",
       "At Anthropic, we believe that AI should build a better world, not a robot apocalypse (sorry, Terminator fans). We’re committed to harnessing AI safely so that society flourishes, rather than flounders. Here’s to a future where your toaster does NOT try to take over the world!  \n",
       "*(En Anthropic, creemos que la IA debe construir un mundo mejor, no un apocalipsis de robots (lo siento, fanáticos de Terminator). Estamos comprometidos a aprovechar la IA de forma segura para que la sociedad florezca, en lugar de hundirse. ¡Brindemos por un futuro donde tu tostadora NO intentará apoderarse del mundo!)*\n",
       "\n",
       "---\n",
       "\n",
       "### Company Culture: Trust, Teamwork & Simplicity\n",
       "*Cultura de la Empresa: Confianza, Trabajo en Equipo y Simplicidad*\n",
       "\n",
       "Our culture is all about high trust—like that friend who “borrows” your last piece of pizza and promises to replace it (but we really do mean it!). Collaboration is key, and we believe in doing the simple things that work—like asking Claude for help before tackling that complicated report.  \n",
       "*(Nuestra cultura se basa en una alta confianza; como ese amigo que \"toma prestada\" tu última pieza de pizza y promete reemplazarla (¡pero realmente lo decimos!). La colaboración es fundamental, y creemos en hacer las cosas simples que funcionan, como pedirle ayuda a Claude antes de abordar ese informe complicado.)*\n",
       "\n",
       "---\n",
       "\n",
       "### Customers: A Variety of Big Thinkers\n",
       "*Clientes: Una Variedad de Grandes Pensadores*\n",
       "\n",
       "From startups to NGOs, our clients are seriously smart folks who want to leverage Claude's brilliance to enhance efficiency. Whether you run a small skateboard company or an academic institution, Claude is ready to roll!  \n",
       "*(Desde startups hasta ONG, nuestros clientes son personas realmente inteligentes que desean aprovechar la brillantez de Claude para mejorar la eficiencia. ¡Ya sea que dirijas una pequeña compañía de patinetas o una institución académica, Claude está listo para rodar!)*\n",
       "\n",
       "---\n",
       "\n",
       "### Careers at Anthropic: Join the Adventure!\n",
       "*Carreras en Anthropic: ¡Únete a la Aventura!*\n",
       "\n",
       "Love AI? So do we! Join us at Anthropic, where we blend research, engineering, and a sprinkle of horticulture appreciation. We offer competitive salaries, wellness perks, and most importantly, an atmosphere where you can actually have a healthy work-life balance (yes, pizza breaks are encouraged!).  \n",
       "*(¿Amas la IA? ¡Nosotros también! Únete a nosotros en Anthropic, donde combinamos investigación, ingeniería y un toque de aprecio por la horticultura. Ofrecemos salarios competitivos, beneficios de bienestar y, lo más importante, un ambiente donde realmente puedes tener un equilibrio saludable entre el trabajo y la vida (sí, ¡las pausas para la pizza son bienvenidas!).)*\n",
       "\n",
       "---\n",
       "\n",
       "## Our Humor: \n",
       "*Nuestro Humor:*\n",
       "\n",
       "Why did the AI cross the road?  \n",
       "To optimize the algorithm on the other side, of course!   \n",
       "*(¿Por qué cruzó la IA la carretera? Para optimizar el algoritmo del otro lado, ¡por supuesto!)*\n",
       "\n",
       "---\n",
       "\n",
       "So, whether you're a customer, investor, or a future colleague, remember: at Anthropic, we're not just building AI—we're building a safer future, one Claude at a time!  \n",
       "*Así que, ya seas un cliente, inversor o colega futuro, recuerda: en Anthropic, no solo estamos construyendo IA, ¡estamos construyendo un futuro más seguro, un Claude a la vez!*"
      ],
      "text/plain": [
       "<IPython.core.display.Markdown object>"
      ]
     },
     "metadata": {},
     "output_type": "display_data"
    }
   ],
   "source": [
    "create_brochure(\"Anthropic\", \"https://anthropic.com\")"
   ]
  },
  {
   "cell_type": "markdown",
   "id": "61eaaab7-0b47-4b29-82d4-75d474ad8d18",
   "metadata": {},
   "source": [
    "## Finally - a minor improvement\n",
    "\n",
    "With a small adjustment, we can change this so that the results stream back from OpenAI,\n",
    "with the familiar typewriter animation"
   ]
  },
  {
   "cell_type": "code",
   "execution_count": 58,
   "id": "51db0e49-f261-4137-aabe-92dd601f7725",
   "metadata": {},
   "outputs": [],
   "source": [
    "def stream_brochure(company_name, url):\n",
    "    stream = openai.chat.completions.create(\n",
    "        model=MODEL,\n",
    "        messages=[\n",
    "            {\"role\": \"system\", \"content\": system_prompt},\n",
    "            {\"role\": \"user\", \"content\": get_brochure_user_prompt(company_name, url)}\n",
    "          ],\n",
    "        stream=True\n",
    "    )\n",
    "    \n",
    "    response = \"\"\n",
    "    display_handle = display(Markdown(\"\"), display_id=True)\n",
    "    for chunk in stream:\n",
    "        response += chunk.choices[0].delta.content or ''\n",
    "        response = response.replace(\"```\",\"\").replace(\"markdown\", \"\")\n",
    "        update_display(Markdown(response), display_id=display_handle.display_id)"
   ]
  },
  {
   "cell_type": "code",
   "execution_count": 59,
   "id": "56bf0ae3-ee9d-4a72-9cd6-edcac67ceb6d",
   "metadata": {},
   "outputs": [
    {
     "name": "stdout",
     "output_type": "stream",
     "text": [
      "Found links: {'links': [{'type': 'about page', 'url': 'https://anthropic.com/company'}, {'type': 'careers page', 'url': 'https://anthropic.com/careers'}, {'type': 'team page', 'url': 'https://anthropic.com/team'}, {'type': 'research page', 'url': 'https://anthropic.com/research'}, {'type': 'enterprise page', 'url': 'https://anthropic.com/enterprise'}, {'type': 'api page', 'url': 'https://anthropic.com/api'}, {'type': 'pricing page', 'url': 'https://anthropic.com/pricing'}, {'type': 'news page', 'url': 'https://anthropic.com/news'}]}\n"
     ]
    },
    {
     "data": {
      "text/markdown": [
       "# Welcome to Anthropic! 🌟 \n",
       "*¡Bienvenido a Anthropic!*\n",
       "\n",
       "At Anthropic, we’re on a mission that’s actually worth talking about—developing AI systems that are safe, reliable, and something you can trust with your coffee order! ☕🤖  \n",
       "*En Anthropic, estamos en una misión que vale la pena hablar: desarrollar sistemas de IA que sean seguros, confiables y en los que puedas confiar con tu pedido de café!*\n",
       "\n",
       "---\n",
       "\n",
       "## Meet Claude (No, Not That One) 👤\n",
       "*Conoce a Claude (no, no ese)*\n",
       "\n",
       "Say hello to Claude 3.5 Sonnet—our most intelligent AI model. He’s not just a fancy virtual assistant; he’s like that one friend who always brings snacks and helps you brainstorm! 🎉  \n",
       "*Di hola a Claude 3.5 Sonnet, nuestro modelo de IA más inteligente. No es solo un asistente virtual elegante, ¡es como ese amigo que siempre trae bocadillos y te ayuda a hacer una lluvia de ideas!*\n",
       "\n",
       "---\n",
       "\n",
       "## Our Company Culture 🤝\n",
       "*Nuestra cultura empresarial*\n",
       "\n",
       "At Anthropic, trust isn't just a word; it's our lifestyle. We assume good faith, prioritize honesty, and disagree like polite adults. Plus, we have a soft spot for plants! 🌱  So if you're looking for a workplace where you can pet a fern as you contemplate AI safety, look no further!  \n",
       "*En Anthropic, la confianza no es solo una palabra; es nuestro estilo de vida. Asumimos buena fe, priorizamos la honestidad y discrepamos como adultos educados. ¡Además, tenemos un amor por las plantas! Así que, si buscas un lugar de trabajo donde puedas acariciar un helecho mientras contemplas la seguridad de la IA, ¡no busques más!*\n",
       "\n",
       "---\n",
       "\n",
       "## Join Our Team! 🚀\n",
       "*¡Únete a nuestro equipo!*\n",
       "\n",
       "Think you can make AI safer AND have fun while doing it? We want you! We're looking for talented people in research, engineering, policy, and even those who just have a knack for making great coffee. If you can contribute to our mission, you belong here!  \n",
       "*¿Crees que puedes hacer que la IA sea más segura Y divertirte mientras lo haces? ¡Te queremos! Buscamos personas talentosas en investigación, ingeniería, políticas e incluso aquellas que simplemente tengan un talento para hacer buen café. Si puedes contribuir a nuestra misión, perteneces aquí!*\n",
       "\n",
       "---\n",
       "\n",
       "## Our Customers: Usually Not Villains 😎\n",
       "*Nuestros clientes: generalmente no son villanos*\n",
       "\n",
       "We cater to a variety of industries, from nonprofits to big enterprises, and our only villain is not providing value. So whether you're a small startup or a large organization, Claude is here to save your day! 🦸‍♂️  \n",
       "*Atendemos a una variedad de industrias, desde organizaciones sin fines de lucro hasta grandes empresas, y nuestro único villano es no brindar valor. Así que, ya seas una pequeña startup o una gran organización, ¡Claude está aquí para salvar tu día!*\n",
       "\n",
       "---\n",
       "\n",
       "## Our Humor 😄\n",
       "*Nuestro humor*\n",
       "\n",
       "Why did the AI go to therapy? Because it had too many neural issues! 🤖💔  \n",
       "*¿Por qué fue la IA a terapia? ¡Porque tenía demasiados problemas neuronales!*\n",
       "\n",
       "--- \n",
       "\n",
       "So remember, whether you're a customer looking for reliable AI or a potential recruit who loves plants and trust (and probably coffee), Anthropic has a place for you!  \n",
       "*Así que recuerda, ya seas un cliente en busca de IA confiable o un recluta potencial que ama las plantas y la confianza (y probablemente el café), ¡Anthropic tiene un lugar para ti!*"
      ],
      "text/plain": [
       "<IPython.core.display.Markdown object>"
      ]
     },
     "metadata": {},
     "output_type": "display_data"
    }
   ],
   "source": [
    "stream_brochure(\"Anthropic\", \"https://anthropic.com\")"
   ]
  },
  {
   "cell_type": "code",
   "execution_count": 60,
   "id": "fdb3f8d8-a3eb-41c8-b1aa-9f60686a653b",
   "metadata": {},
   "outputs": [
    {
     "name": "stdout",
     "output_type": "stream",
     "text": [
      "Found links: {'links': [{'type': 'about page', 'url': 'https://huggingface.co/huggingface'}, {'type': 'careers page', 'url': 'https://apply.workable.com/huggingface/'}, {'type': 'enterprise page', 'url': 'https://huggingface.co/enterprise'}, {'type': 'pricing page', 'url': 'https://huggingface.co/pricing'}, {'type': 'blog', 'url': 'https://huggingface.co/blog'}, {'type': 'documentation', 'url': 'https://huggingface.co/docs'}]}\n"
     ]
    },
    {
     "data": {
      "text/markdown": [
       "# Hugging Face: Your Friendly AI Playground!\n",
       "\n",
       "Welcome to Hugging Face – the AI community that's not just building the future but is also shoving cupcakes in its mouth while doing it! We’re here to make machine learning as delightful as a warm hug and to sweeten the deal, we’ve got something for everyone – from curious customers to aspiring engineers!\n",
       "\n",
       "*Bienvenido a Hugging Face: ¡Tu parque de diversiones de IA amigable!*\n",
       "\n",
       "---\n",
       "\n",
       "## Who We Are: The Cuddle Connoisseurs of AI  \n",
       "At Hugging Face, we believe in democratizing good machine learning, one heartwarming commit at a time! 💖 We’re a passionate team of 223 cheerful techies, dedicated to creating an AI community where ideas flow as freely as a chocolate fountain at a birthday party. \n",
       "\n",
       "*En Hugging Face, creemos en democratizar el buen aprendizaje automático, ¡un conmovedor commit a la vez!💖 Somos un equipo apasionado de 223 entusiastas tecnológicos, dedicados a crear una comunidad de IA donde las ideas fluyen tan libremente como una fuente de chocolate en una fiesta de cumpleaños.*\n",
       "\n",
       "---\n",
       "\n",
       "## Our Customers: The Who's Who of AI  \n",
       "Join over 50,000 organizations ranging from the scholar to the corporate giants, like Google, Microsoft, and even the misunderstood underdog, Grammarly! Remember, whether you’re crafting a language model or chasing after a scary algorithm, we’ve got your back – like a supportive wingman at an awkward first date! \n",
       "\n",
       "*Únete a más de 50,000 organizaciones que van desde académicos hasta gigantes corporativos, como Google, Microsoft e incluso el incomprendido perdedor, Grammarly. ¡Recuerda, ya sea que estés creando un modelo de lenguaje o persiguiendo un aterrador algoritmo, nosotros estamos contigo!*\n",
       "\n",
       "---\n",
       "\n",
       "## Careers: Join the Hugging Revolution!  \n",
       "Looking to join a team where the ideas are as sweet as the snacks in the kitchen? Check our job openings! We’re not just about technical skills; we value humor, creativity, and the ability to turn a boring meeting into an improv show! \n",
       "\n",
       "*¿Buscas unirte a un equipo donde las ideas son tan dulces como los bocadillos en la cocina? ¡Consulta nuestras ofertas de trabajo! No solo buscamos habilidades técnicas; valoramos el humor, la creatividad y la capacidad de convertir una reunión aburrida en un espectáculo de improvisación.*\n",
       "\n",
       "---\n",
       "\n",
       "## Our Awesome Offerings: Better Tools Than a Swiss Army Knife  \n",
       "We provide tools for all! Whether you're creating models, datasets, or magical Spaces, you can collaborate and build seamlessly. Did we mention we have more models available than your second cousin's collection of cat memes? 😸\n",
       "\n",
       "*¡Ofrecemos herramientas para todos! Ya sea que estés creando modelos, conjuntos de datos o espacios mágicos, puedes colaborar y construir sin problemas. ¿Mencionamos que tenemos más modelos disponibles que la colección de memes de gatos de tu primo segundo? 😸*\n",
       "\n",
       "---\n",
       "\n",
       "## Our Humor: Why did the AI go to therapy?  \n",
       "Because it had too many layers and couldn’t “unpack” its feelings! \n",
       "\n",
       "*¿Por qué fue la IA a terapia? Porque tenía demasiadas capas y no podía “desempacar” sus sentimientos!*\n",
       "\n",
       "---\n",
       "\n",
       "So whether you're aiming for a deep learning model that can perform miracles or just want a place to connect with like-minded folks, Hugging Face is more than just a name – it’s a community committed to innovation and support, wrapped in a warm fuzzy feel. Come join us, we’ve got plenty of hugs to go around! \n",
       "\n",
       "*Así que, ya sea que busques un modelo de aprendizaje profundo que realice milagros o solo quieras un lugar para conectar con personas afines, Hugging Face es más que un nombre: es una comunidad comprometida con la innovación y el apoyo, envuelta en una cálida sensación de ternura. ¡Ven a unirte a nosotros, tenemos muchos abrazos para repartir!*"
      ],
      "text/plain": [
       "<IPython.core.display.Markdown object>"
      ]
     },
     "metadata": {},
     "output_type": "display_data"
    }
   ],
   "source": [
    "# Try changing the system prompt to the humorous version when you make the Brochure for Hugging Face:\n",
    "\n",
    "stream_brochure(\"HuggingFace\", \"https://huggingface.co\")"
   ]
  },
  {
   "cell_type": "markdown",
   "id": "a27bf9e0-665f-4645-b66b-9725e2a959b5",
   "metadata": {},
   "source": [
    "<table style=\"margin: 0; text-align: left;\">\n",
    "    <tr>\n",
    "        <td style=\"width: 150px; height: 150px; vertical-align: middle;\">\n",
    "            <img src=\"../business.jpg\" width=\"150\" height=\"150\" style=\"display: block;\" />\n",
    "        </td>\n",
    "        <td>\n",
    "            <h2 style=\"color:#181;\">Business applications</h2>\n",
    "            <span style=\"color:#181;\">In this exercise we extended the Day 1 code to make multiple LLM calls, and generate a document.\n",
    "\n",
    "This is perhaps the first example of Agentic AI design patterns, as we combined multiple calls to LLMs. This will feature more in Week 2, and then we will return to Agentic AI in a big way in Week 8 when we build a fully autonomous Agent solution.\n",
    "\n",
    "Generating content in this way is one of the very most common Use Cases. As with summarization, this can be applied to any business vertical. Write marketing content, generate a product tutorial from a spec, create personalized email content, and so much more. Explore how you can apply content generation to your business, and try making yourself a proof-of-concept prototype.</span>\n",
    "        </td>\n",
    "    </tr>\n",
    "</table>"
   ]
  },
  {
   "cell_type": "markdown",
   "id": "14b2454b-8ef8-4b5c-b928-053a15e0d553",
   "metadata": {},
   "source": [
    "<table style=\"margin: 0; text-align: left;\">\n",
    "    <tr>\n",
    "        <td style=\"width: 150px; height: 150px; vertical-align: middle;\">\n",
    "            <img src=\"../important.jpg\" width=\"150\" height=\"150\" style=\"display: block;\" />\n",
    "        </td>\n",
    "        <td>\n",
    "            <h2 style=\"color:#900;\">Before you move to Week 2 (which is tons of fun)</h2>\n",
    "            <span style=\"color:#900;\">Please see the week1 EXERCISE notebook for your challenge for the end of week 1. This will give you some essential practice working with Frontier APIs, and prepare you well for Week 2.</span>\n",
    "        </td>\n",
    "    </tr>\n",
    "</table>"
   ]
  },
  {
   "cell_type": "markdown",
   "id": "17b64f0f-7d33-4493-985a-033d06e8db08",
   "metadata": {},
   "source": [
    "<table style=\"margin: 0; text-align: left;\">\n",
    "    <tr>\n",
    "        <td style=\"width: 150px; height: 150px; vertical-align: middle;\">\n",
    "            <img src=\"../resources.jpg\" width=\"150\" height=\"150\" style=\"display: block;\" />\n",
    "        </td>\n",
    "        <td>\n",
    "            <h2 style=\"color:#f71;\">A reminder on 2 useful resources</h2>\n",
    "            <span style=\"color:#f71;\">1. The resources for the course are available <a href=\"https://edwarddonner.com/2024/11/13/llm-engineering-resources/\">here.</a><br/>\n",
    "            2. I'm on LinkedIn <a href=\"https://www.linkedin.com/in/eddonner/\">here</a> and I love connecting with people taking the course!\n",
    "            </span>\n",
    "        </td>\n",
    "    </tr>\n",
    "</table>"
   ]
  },
  {
   "cell_type": "code",
   "execution_count": null,
   "id": "3de35771-455f-40b5-ba44-7c0a6b7c427a",
   "metadata": {},
   "outputs": [],
   "source": []
  }
 ],
 "metadata": {
  "kernelspec": {
   "display_name": "Python 3 (ipykernel)",
   "language": "python",
   "name": "python3"
  },
  "language_info": {
   "codemirror_mode": {
    "name": "ipython",
    "version": 3
   },
   "file_extension": ".py",
   "mimetype": "text/x-python",
   "name": "python",
   "nbconvert_exporter": "python",
   "pygments_lexer": "ipython3",
   "version": "3.11.2"
  }
 },
 "nbformat": 4,
 "nbformat_minor": 5
}
