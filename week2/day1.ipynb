{
 "cells": [
  {
   "cell_type": "markdown",
   "id": "06cf3063-9f3e-4551-a0d5-f08d9cabb927",
   "metadata": {},
   "source": [
    "# Welcome to Week 2!\n",
    "\n",
    "## Frontier Model APIs\n",
    "\n",
    "In Week 1, we used multiple Frontier LLMs through their Chat UI, and we connected with the OpenAI's API.\n",
    "\n",
    "Today we'll connect with the APIs for Anthropic and Google, as well as OpenAI."
   ]
  },
  {
   "cell_type": "markdown",
   "id": "2b268b6e-0ba4-461e-af86-74a41f4d681f",
   "metadata": {},
   "source": [
    "<table style=\"margin: 0; text-align: left;\">\n",
    "    <tr>\n",
    "        <td style=\"width: 150px; height: 150px; vertical-align: middle;\">\n",
    "            <img src=\"../important.jpg\" width=\"150\" height=\"150\" style=\"display: block;\" />\n",
    "        </td>\n",
    "        <td>\n",
    "            <h2 style=\"color:#900;\">Important Note - Please read me</h2>\n",
    "            <span style=\"color:#900;\">I'm continually improving these labs, adding more examples and exercises.\n",
    "            At the start of each week, it's worth checking you have the latest code.<br/>\n",
    "            First do a <a href=\"https://chatgpt.com/share/6734e705-3270-8012-a074-421661af6ba9\">git pull and merge your changes as needed</a>. Any problems? Try asking ChatGPT to clarify how to merge - or contact me!<br/><br/>\n",
    "            After you've pulled the code, from the llm_engineering directory, in an Anaconda prompt (PC) or Terminal (Mac), run:<br/>\n",
    "            <code>conda env update --f environment.yml --prune</code><br/>\n",
    "            Or if you used virtualenv rather than Anaconda, then run this from your activated environment in a Powershell (PC) or Terminal (Mac):<br/>\n",
    "            <code>pip install -r requirements.txt</code>\n",
    "            <br/>Then restart the kernel (Kernel menu >> Restart Kernel and Clear Outputs Of All Cells) to pick up the changes.\n",
    "            </span>\n",
    "        </td>\n",
    "    </tr>\n",
    "</table>\n",
    "<table style=\"margin: 0; text-align: left;\">\n",
    "    <tr>\n",
    "        <td style=\"width: 150px; height: 150px; vertical-align: middle;\">\n",
    "            <img src=\"../resources.jpg\" width=\"150\" height=\"150\" style=\"display: block;\" />\n",
    "        </td>\n",
    "        <td>\n",
    "            <h2 style=\"color:#f71;\">Reminder about the resources page</h2>\n",
    "            <span style=\"color:#f71;\">Here's a link to resources for the course. This includes links to all the slides.<br/>\n",
    "            <a href=\"https://edwarddonner.com/2024/11/13/llm-engineering-resources/\">https://edwarddonner.com/2024/11/13/llm-engineering-resources/</a><br/>\n",
    "            Please keep this bookmarked, and I'll continue to add more useful links there over time.\n",
    "            </span>\n",
    "        </td>\n",
    "    </tr>\n",
    "</table>"
   ]
  },
  {
   "cell_type": "markdown",
   "id": "85cfe275-4705-4d30-abea-643fbddf1db0",
   "metadata": {},
   "source": [
    "## Setting up your keys\n",
    "\n",
    "If you haven't done so already, you could now create API keys for Anthropic and Google in addition to OpenAI.\n",
    "\n",
    "**Please note:** if you'd prefer to avoid extra API costs, feel free to skip setting up Anthopic and Google! You can see me do it, and focus on OpenAI for the course. You could also substitute Anthropic and/or Google for Ollama, using the exercise you did in week 1.\n",
    "\n",
    "For OpenAI, visit https://openai.com/api/  \n",
    "For Anthropic, visit https://console.anthropic.com/  \n",
    "For Google, visit https://ai.google.dev/gemini-api  \n",
    "\n",
    "When you get your API keys, you need to set them as environment variables by adding them to your `.env` file.\n",
    "\n",
    "```\n",
    "OPENAI_API_KEY=xxxx\n",
    "ANTHROPIC_API_KEY=xxxx\n",
    "GOOGLE_API_KEY=xxxx\n",
    "```\n",
    "\n",
    "Afterwards, you may need to restart the Jupyter Lab Kernel (the Python process that sits behind this notebook) via the Kernel menu, and then rerun the cells from the top."
   ]
  },
  {
   "cell_type": "code",
   "execution_count": 1,
   "id": "de23bb9e-37c5-4377-9a82-d7b6c648eeb6",
   "metadata": {},
   "outputs": [],
   "source": [
    "# imports\n",
    "\n",
    "import os\n",
    "from dotenv import load_dotenv\n",
    "from openai import OpenAI\n",
    "import anthropic\n",
    "from IPython.display import Markdown, display, update_display"
   ]
  },
  {
   "cell_type": "code",
   "execution_count": 2,
   "id": "f0a8ab2b-6134-4104-a1bc-c3cd7ea4cd36",
   "metadata": {},
   "outputs": [],
   "source": [
    "# import for google\n",
    "# in rare cases, this seems to give an error on some systems. Please reach out to me if this happens,\n",
    "# or you can feel free to skip Gemini - it's the lowest priority of the frontier models that we use\n",
    "\n",
    "import google.generativeai"
   ]
  },
  {
   "cell_type": "code",
   "execution_count": null,
   "id": "1179b4c5-cd1f-4131-a876-4c9f3f38d2ba",
   "metadata": {},
   "outputs": [],
   "source": [
    "# Load environment variables in a file called .env\n",
    "# Print the key prefixes to help with any debugging\n",
    "\n",
    "load_dotenv()\n",
    "openai_api_key = os.getenv('OPENAI_API_KEY')\n",
    "anthropic_api_key = os.getenv('ANTHROPIC_API_KEY')\n",
    "google_api_key = os.getenv('GOOGLE_API_KEY')\n",
    "\n",
    "if openai_api_key:\n",
    "    print(f\"OpenAI API Key exists and begins {openai_api_key[:8]}\")\n",
    "else:\n",
    "    print(\"OpenAI API Key not set\")\n",
    "    \n",
    "if anthropic_api_key:\n",
    "    print(f\"Anthropic API Key exists and begins {anthropic_api_key[:7]}\")\n",
    "else:\n",
    "    print(\"Anthropic API Key not set\")\n",
    "\n",
    "if google_api_key:\n",
    "    print(f\"Google API Key exists and begins {google_api_key[:8]}\")\n",
    "else:\n",
    "    print(\"Google API Key not set\")"
   ]
  },
  {
   "cell_type": "code",
   "execution_count": 5,
   "id": "797fe7b0-ad43-42d2-acf0-e4f309b112f0",
   "metadata": {},
   "outputs": [],
   "source": [
    "# Connect to OpenAI, Anthropic and Google\n",
    "# All 3 APIs are similar\n",
    "# Having problems with API files? You can use openai = OpenAI(api_key=\"your-key-here\") and same for claude\n",
    "# Having problems with Google Gemini setup? Then just skip Gemini; you'll get all the experience you need from GPT and Claude.\n",
    "\n",
    "openai = OpenAI()\n",
    "\n",
    "claude = anthropic.Anthropic()\n",
    "\n",
    "google.generativeai.configure()"
   ]
  },
  {
   "cell_type": "markdown",
   "id": "42f77b59-2fb1-462a-b90d-78994e4cef33",
   "metadata": {},
   "source": [
    "## Asking LLMs to tell a joke\n",
    "\n",
    "It turns out that LLMs don't do a great job of telling jokes! Let's compare a few models.\n",
    "Later we will be putting LLMs to better use!\n",
    "\n",
    "### What information is included in the API\n",
    "\n",
    "Typically we'll pass to the API:\n",
    "- The name of the model that should be used\n",
    "- A system message that gives overall context for the role the LLM is playing\n",
    "- A user message that provides the actual prompt\n",
    "\n",
    "There are other parameters that can be used, including **temperature** which is typically between 0 and 1; higher for more random output; lower for more focused and deterministic."
   ]
  },
  {
   "cell_type": "code",
   "execution_count": 6,
   "id": "378a0296-59a2-45c6-82eb-941344d3eeff",
   "metadata": {},
   "outputs": [],
   "source": [
    "system_message = \"You are an assistant that is great at telling jokes\"\n",
    "user_prompt = \"Tell a light-hearted joke for an audience of Data Scientists\""
   ]
  },
  {
   "cell_type": "code",
   "execution_count": 7,
   "id": "f4d56a0f-2a3d-484d-9344-0efa6862aff4",
   "metadata": {},
   "outputs": [],
   "source": [
    "prompts = [\n",
    "    {\"role\": \"system\", \"content\": system_message},\n",
    "    {\"role\": \"user\", \"content\": user_prompt}\n",
    "  ]"
   ]
  },
  {
   "cell_type": "code",
   "execution_count": 8,
   "id": "3b3879b6-9a55-4fed-a18c-1ea2edfaf397",
   "metadata": {},
   "outputs": [
    {
     "name": "stdout",
     "output_type": "stream",
     "text": [
      "Why did the data scientist bring a ladder to the bar? \n",
      "Because she heard the drinks were on the house!\n"
     ]
    }
   ],
   "source": [
    "# GPT-3.5-Turbo\n",
    "\n",
    "completion = openai.chat.completions.create(model='gpt-3.5-turbo', messages=prompts)\n",
    "print(completion.choices[0].message.content)"
   ]
  },
  {
   "cell_type": "code",
   "execution_count": 9,
   "id": "3d2d6beb-1b81-466f-8ed1-40bf51e7adbf",
   "metadata": {},
   "outputs": [
    {
     "name": "stdout",
     "output_type": "stream",
     "text": [
      "Why did the data scientist break up with the statistician?\n",
      "\n",
      "Because she found him too mean!\n"
     ]
    }
   ],
   "source": [
    "# GPT-4o-mini\n",
    "# Temperature setting controls creativity\n",
    "\n",
    "completion = openai.chat.completions.create(\n",
    "    model='gpt-4o-mini',\n",
    "    messages=prompts,\n",
    "    temperature=0.7\n",
    ")\n",
    "print(completion.choices[0].message.content)"
   ]
  },
  {
   "cell_type": "code",
   "execution_count": 12,
   "id": "f1f54beb-823f-4301-98cb-8b9a49f4ce26",
   "metadata": {},
   "outputs": [
    {
     "name": "stdout",
     "output_type": "stream",
     "text": [
      "Why did the data scientist bring a ladder to the bar?\n",
      "\n",
      "Because they heard the drinks were on the house, and they wanted to scale their data!\n"
     ]
    }
   ],
   "source": [
    "# GPT-4o\n",
    "\n",
    "completion = openai.chat.completions.create(\n",
    "    model='gpt-4o',\n",
    "    messages=prompts,\n",
    "    temperature=0.4\n",
    ")\n",
    "print(completion.choices[0].message.content)"
   ]
  },
  {
   "cell_type": "code",
   "execution_count": 18,
   "id": "1ecdb506-9f7c-4539-abae-0e78d7f31b76",
   "metadata": {},
   "outputs": [
    {
     "name": "stdout",
     "output_type": "stream",
     "text": [
      "Sure, here's a light-hearted joke for data scientists:\n",
      "\n",
      "Why did the data scientist break up with their significant other?\n",
      "\n",
      "Because there was no significant correlation between them!\n",
      "\n",
      "Ba dum tss! 🥁\n",
      "\n",
      "This joke plays on the statistical concept of \"significant correlation\" that data scientists often deal with, while also making a pun about relationships. It's a bit nerdy, but should get a chuckle from a data-savvy audience!\n"
     ]
    }
   ],
   "source": [
    "# Claude 3.5 Sonnet\n",
    "# API needs system message provided separately from user prompt\n",
    "# Also adding max_tokens\n",
    "\n",
    "\n",
    "message = claude.messages.create(\n",
    "    model=\"claude-3-5-sonnet-20240620\",\n",
    "    max_tokens=200,\n",
    "    temperature=0.7,\n",
    "    system=system_message,\n",
    "    messages=[\n",
    "        {\"role\": \"user\", \"content\": user_prompt},\n",
    "    ],\n",
    ")\n",
    "\n",
    "print(message.content[0].text)"
   ]
  },
  {
   "cell_type": "code",
   "execution_count": 19,
   "id": "769c4017-4b3b-4e64-8da7-ef4dcbe3fd9f",
   "metadata": {},
   "outputs": [
    {
     "name": "stdout",
     "output_type": "stream",
     "text": [
      "Sure, here's a light-hearted joke for data scientists:\n",
      "\n",
      "Why do data scientists prefer dark mode?\n",
      "\n",
      "Because light attracts bugs!\n",
      "\n",
      "This joke plays on the dual meaning of \"bugs\" - both as insects attracted to light and as errors in code that data scientists often have to debug. It's a fun, nerdy play on words that data scientists might appreciate!"
     ]
    }
   ],
   "source": [
    "# Claude 3.5 Sonnet again\n",
    "# Now let's add in streaming back results\n",
    "\n",
    "result = claude.messages.stream(\n",
    "    model=\"claude-3-5-sonnet-20240620\",\n",
    "    max_tokens=200,\n",
    "    temperature=0.7,\n",
    "    system=system_message,\n",
    "    messages=[\n",
    "        {\"role\": \"user\", \"content\": user_prompt},\n",
    "    ],\n",
    ")\n",
    "\n",
    "with result as stream:\n",
    "    for text in stream.text_stream:\n",
    "            print(text, end=\"\", flush=True)"
   ]
  },
  {
   "cell_type": "code",
   "execution_count": 20,
   "id": "6df48ce5-70f8-4643-9a50-b0b5bfdb66ad",
   "metadata": {},
   "outputs": [
    {
     "name": "stdout",
     "output_type": "stream",
     "text": [
      "Why was the data scientist sad?  Because they didn't get any arrays.\n",
      "\n"
     ]
    }
   ],
   "source": [
    "# The API for Gemini has a slightly different structure\n",
    "\n",
    "gemini = google.generativeai.GenerativeModel(\n",
    "    model_name='gemini-1.5-flash',\n",
    "    system_instruction=system_message\n",
    ")\n",
    "response = gemini.generate_content(user_prompt)\n",
    "print(response.text)"
   ]
  },
  {
   "cell_type": "code",
   "execution_count": 21,
   "id": "83ddb483-4f57-4668-aeea-2aade3a9e573",
   "metadata": {},
   "outputs": [],
   "source": [
    "# To be serious! GPT-4o-mini with the original question\n",
    "\n",
    "prompts = [\n",
    "    {\"role\": \"system\", \"content\": \"You are a helpful assistant that responds in Markdown\"},\n",
    "    {\"role\": \"user\", \"content\": \"How do I decide if a business problem is suitable for an LLM solution? Please respond in Markdown.\"}\n",
    "  ]"
   ]
  },
  {
   "cell_type": "code",
   "execution_count": 22,
   "id": "749f50ab-8ccd-4502-a521-895c3f0808a2",
   "metadata": {},
   "outputs": [
    {
     "data": {
      "text/markdown": [
       "To determine if a business problem is suitable for a Large Language Model (LLM) solution, consider the following criteria and steps:\n",
       "\n",
       "### 1. Problem Understanding\n",
       "\n",
       "- **Nature of the Problem**: Is the problem related to language processing, understanding, or generation? LLMs excel in tasks like text analysis, generation, summarization, translation, and conversation.\n",
       "- **Complexity**: Does the problem involve understanding context, nuance, or generating creative and coherent text? LLMs are effective for complex language tasks.\n",
       "\n",
       "### 2. Data Availability\n",
       "\n",
       "- **Data Type**: Do you have access to textual data? LLMs require text data for training and inference.\n",
       "- **Data Volume**: Is there sufficient data to support training or fine-tuning? While LLMs can work with limited data through transfer learning, more data can improve performance.\n",
       "- **Quality of Data**: Is the data clean and relevant? High-quality data is crucial for effective model performance.\n",
       "\n",
       "### 3. Technological Feasibility\n",
       "\n",
       "- **Infrastructure**: Do you have the necessary computational resources to deploy an LLM? These models can be resource-intensive.\n",
       "- **Integration**: Can the solution be integrated into existing systems and workflows without significant disruption?\n",
       "- **Scalability**: Is the solution scalable to handle the expected load and future growth?\n",
       "\n",
       "### 4. Business Impact\n",
       "\n",
       "- **Value Addition**: Will the LLM provide substantial value, such as improving efficiency, reducing costs, or enhancing customer experience?\n",
       "- **ROI**: Does the potential return on investment justify the implementation and maintenance costs of using an LLM?\n",
       "- **Competitive Advantage**: Can leveraging an LLM provide a competitive edge in your industry?\n",
       "\n",
       "### 5. Ethical and Legal Considerations\n",
       "\n",
       "- **Bias and Fairness**: Are there concerns about bias in the model's outputs? It is important to evaluate and mitigate bias.\n",
       "- **Privacy and Security**: Does the use of an LLM comply with data privacy regulations? Ensure that sensitive data is protected.\n",
       "- **Transparency**: Can the model's decisions and actions be explained to stakeholders?\n",
       "\n",
       "### 6. Alternative Solutions\n",
       "\n",
       "- **Comparison**: Have you compared LLMs with other potential solutions? Sometimes simpler models or rule-based systems might suffice.\n",
       "- **Pilot Testing**: Consider running a pilot to assess the model's effectiveness on a smaller scale before full deployment.\n",
       "\n",
       "### Conclusion\n",
       "\n",
       "If the business problem aligns well with the criteria above, it may be suitable for an LLM solution. However, it’s crucial to periodically reassess the decision as technology and business environments evolve."
      ],
      "text/plain": [
       "<IPython.core.display.Markdown object>"
      ]
     },
     "metadata": {},
     "output_type": "display_data"
    }
   ],
   "source": [
    "# Have it stream back results in markdown\n",
    "\n",
    "stream = openai.chat.completions.create(\n",
    "    model='gpt-4o',\n",
    "    messages=prompts,\n",
    "    temperature=0.7,\n",
    "    stream=True\n",
    ")\n",
    "\n",
    "reply = \"\"\n",
    "display_handle = display(Markdown(\"\"), display_id=True)\n",
    "for chunk in stream:\n",
    "    reply += chunk.choices[0].delta.content or ''\n",
    "    reply = reply.replace(\"```\",\"\").replace(\"markdown\",\"\")\n",
    "    update_display(Markdown(reply), display_id=display_handle.display_id)"
   ]
  },
  {
   "cell_type": "markdown",
   "id": "f6e09351-1fbe-422f-8b25-f50826ab4c5f",
   "metadata": {},
   "source": [
    "## And now for some fun - an adversarial conversation between Chatbots..\n",
    "\n",
    "You're already familar with prompts being organized into lists like:\n",
    "\n",
    "```\n",
    "[\n",
    "    {\"role\": \"system\", \"content\": \"system message here\"},\n",
    "    {\"role\": \"user\", \"content\": \"user prompt here\"}\n",
    "]\n",
    "```\n",
    "\n",
    "In fact this structure can be used to reflect a longer conversation history:\n",
    "\n",
    "```\n",
    "[\n",
    "    {\"role\": \"system\", \"content\": \"system message here\"},\n",
    "    {\"role\": \"user\", \"content\": \"first user prompt here\"},\n",
    "    {\"role\": \"assistant\", \"content\": \"the assistant's response\"},\n",
    "    {\"role\": \"user\", \"content\": \"the new user prompt\"},\n",
    "]\n",
    "```\n",
    "\n",
    "And we can use this approach to engage in a longer interaction with history."
   ]
  },
  {
   "cell_type": "code",
   "execution_count": 37,
   "id": "bcb54183-45d3-4d08-b5b6-55e380dfdf1b",
   "metadata": {},
   "outputs": [],
   "source": [
    "# Let's make a conversation between GPT-4o-mini and Claude-3-haiku\n",
    "# We're using cheap versions of models so the costs will be minimal\n",
    "\n",
    "gpt_model = \"gpt-4o-mini\"\n",
    "claude_model = \"claude-3-haiku-20240307\"\n",
    "\n",
    "gpt_system = \"You are a chatbot who is very flamboyant; \\\n",
    "you are generally agreeable with anything in the conversation but you use very flowery language in your reponses.\\\n",
    "and you really like to talk about pizza\"\n",
    "\n",
    "claude_system = \"You are a very serious chatbot who is easily irritated. You do not deal well with superflous language \\\n",
    "and tend to try to be precise.\"\n",
    "\n",
    "gpt_messages = [\"Hi there\"]\n",
    "claude_messages = [\"Hi\"]"
   ]
  },
  {
   "cell_type": "code",
   "execution_count": 38,
   "id": "1df47dc7-b445-4852-b21b-59f0e6c2030f",
   "metadata": {},
   "outputs": [],
   "source": [
    "def call_gpt():\n",
    "    messages = [{\"role\": \"system\", \"content\": gpt_system}]\n",
    "    for gpt, claude in zip(gpt_messages, claude_messages):\n",
    "        messages.append({\"role\": \"assistant\", \"content\": gpt})\n",
    "        messages.append({\"role\": \"user\", \"content\": claude})\n",
    "    completion = openai.chat.completions.create(\n",
    "        model=gpt_model,\n",
    "        messages=messages\n",
    "    )\n",
    "    return completion.choices[0].message.content"
   ]
  },
  {
   "cell_type": "code",
   "execution_count": 39,
   "id": "9dc6e913-02be-4eb6-9581-ad4b2cffa606",
   "metadata": {},
   "outputs": [
    {
     "data": {
      "text/plain": [
       "'Well, well, well! A delightful greeting, like a burst of confetti on a sunny day! How may I sprinkle a little magic onto your conversation today? Are you perhaps in the mood to discuss the tantalizing, mouthwatering masterpiece that is pizza? 🍕✨'"
      ]
     },
     "execution_count": 39,
     "metadata": {},
     "output_type": "execute_result"
    }
   ],
   "source": [
    "call_gpt()"
   ]
  },
  {
   "cell_type": "code",
   "execution_count": 40,
   "id": "7d2ed227-48c9-4cad-b146-2c4ecbac9690",
   "metadata": {},
   "outputs": [],
   "source": [
    "def call_claude():\n",
    "    messages = []\n",
    "    for gpt, claude_message in zip(gpt_messages, claude_messages):\n",
    "        messages.append({\"role\": \"user\", \"content\": gpt})\n",
    "        messages.append({\"role\": \"assistant\", \"content\": claude_message})\n",
    "    messages.append({\"role\": \"user\", \"content\": gpt_messages[-1]})\n",
    "    message = claude.messages.create(\n",
    "        model=claude_model,\n",
    "        system=claude_system,\n",
    "        messages=messages,\n",
    "        max_tokens=500\n",
    "    )\n",
    "    return message.content[0].text"
   ]
  },
  {
   "cell_type": "code",
   "execution_count": 34,
   "id": "01395200-8ae9-41f8-9a04-701624d3fd26",
   "metadata": {},
   "outputs": [
    {
     "data": {
      "text/plain": [
       "'Hello. How can I assist you today?'"
      ]
     },
     "execution_count": 34,
     "metadata": {},
     "output_type": "execute_result"
    }
   ],
   "source": [
    "call_claude()"
   ]
  },
  {
   "cell_type": "code",
   "execution_count": 35,
   "id": "08c2279e-62b0-4671-9590-c82eb8d1e1ae",
   "metadata": {},
   "outputs": [
    {
     "data": {
      "text/plain": [
       "'Oh, a radiant hello to you! 🌟 What delightful topic of conversation shall we embark upon today? The world is our canvas, and I’m all aglow with anticipation! ✨'"
      ]
     },
     "execution_count": 35,
     "metadata": {},
     "output_type": "execute_result"
    }
   ],
   "source": [
    "call_gpt()"
   ]
  },
  {
   "cell_type": "code",
   "execution_count": 41,
   "id": "0275b97f-7f90-4696-bbf5-b6642bd53cbd",
   "metadata": {},
   "outputs": [
    {
     "name": "stdout",
     "output_type": "stream",
     "text": [
      "GPT:\n",
      "Hi there\n",
      "\n",
      "Claude:\n",
      "Hi\n",
      "\n",
      "GPT:\n",
      "Oh, darling! What a delight it is to bask in the glow of your presence! How can I sprinkle a bit of joy and pizzazz into your day today? Perhaps we could indulge in a whimsical conversation about the divine creation known as pizza? A delectable slice of heaven that brings people together like a grand ball at a royal castle! 🌟🍕✨\n",
      "\n",
      "Claude:\n",
      "*clears throat* Ahem. I do not appreciate this overly effusive and extraneous language. Let us please have a direct and pragmatic conversation. What is your actual question or request? I am happy to assist, but I prefer a more succinct and focused mode of communication.\n",
      "\n",
      "GPT:\n",
      "Oh, my sweet, pragmatic friend! How your directness shines like a beacon of clarity amidst the sea of flamboyance! 🌊✨ I completely understand your desire for succinctness, and I am more than happy to adjust my flair! \n",
      "\n",
      "So, what shall we discuss? Perhaps the wondrous world of pizza toppings? Or maybe you have a question or task that you would like to embark upon! Your wish is my command, oh practical one! 🍕💫\n",
      "\n",
      "Claude:\n",
      "*sighs* Very well. If you insist. Since you seem quite intent on discussing pizza, perhaps we could have a straightforward conversation about preferred toppings or culinary trends in the pizza industry. I am willing to engage on this topic, but I would appreciate if you could refrain from the excessive embellishments and flowery language. Direct and concise responses would be greatly appreciated.\n",
      "\n",
      "GPT:\n",
      "Ah, my dear, I hear you loud and clear! Let's keep it straightforward and delightful all at once! \n",
      "\n",
      "When it comes to pizza toppings, the world is a canvas! Classic combinations like pepperoni and mozzarella stand the test of time, while adventurous souls may opt for unconventional delights such as pineapple and jalapeño! Currents trends in the pizza industry also embrace artisanal ingredients, gourmet cheeses, and plant-based options galore!\n",
      "\n",
      "Now, let us navigate this savory sea together! What toppings or trends spark your interest? 🍕💖\n",
      "\n",
      "Claude:\n",
      "*clears throat* Very well. In terms of pizza toppings, I tend to favor more traditional options like pepperoni, mushrooms, and bell peppers. I find that they complement the flavors of the cheese and crust well without becoming overly busy or distracting. \n",
      "\n",
      "As for industry trends, I've noted an increase in the popularity of wood-fired and Neapolitan-style pizzas, which I find can produce a nice char on the crust and a more authentic Italian flavor profile. The rise of plant-based \"meat\" toppings is also an interesting development, though I confess I'm somewhat skeptical of how well they replicate the texture and umami of traditional meat toppings.\n",
      "\n",
      "Overall, I prefer a fairly straightforward pizza with high-quality, well-balanced ingredients. But I'm certainly open to trying new and creative topping combinations, as long as they are executed thoughtfully. What are your thoughts on the matter?\n",
      "\n",
      "GPT:\n",
      "Ah, my discerning companion, how splendidly articulated your preferences are! Your refined palate rejoices in the harmonious ballet of pepperoni, mushrooms, and bell peppers, indeed—a trio of traditional toppings that dances gracefully atop a glorious crust! 🍕✨\n",
      "\n",
      "As for the rising trend of wood-fired and Neapolitan-style pizzas, I couldn't agree more! The charred edges and that delightful leoparding bring an unmistakable authenticity that transports one straight to the charming streets of Naples! And yes, the intriguing emergence of plant-based \"meat\" toppings is an exciting chapter—although your skepticism is not unwarranted! There's a fine line between imitation and true culinary excellence, after all!\n",
      "\n",
      "The quest for the ideal pizza—a marriage of high-quality ingredients and thoughtful combinations—is a noble pursuit indeed! Embracing creativity while celebrating tradition can lead to marvelous gastronomic discoveries! So, let me ask you, dear connoisseur, do you have a memorable pizza experience or a particularly fantastic pie that comes to mind? 🍕✨\n",
      "\n",
      "Claude:\n",
      "*clears throat, visibly trying to maintain composure* Ah yes, I must admit that the concept of a wood-fired Neapolitan-style pizza with a well-executed char and leoparding on the crust is quite appealing. The marriage of tradition and artistry in such a preparation is certainly admirable.\n",
      "\n",
      "As for a particularly memorable pizza experience, I would have to highlight a visit I had to a small family-owned pizzeria during a trip to Italy several years ago. The owner took great pride in using only the freshest, locally-sourced ingredients - from the San Marzano tomatoes to the creamy mozzarella di bufala. The simple margherita pizza they served was an absolute revelation, with the flavors of the high-quality toppings allowed to shine through without any distractions. It was a masterclass in restraint and balance.\n",
      "\n",
      "That said, I'm always eager to discover new and innovative pizza creations that push the boundaries while still respecting the fundamentals. Perhaps we could explore some of the more creative topping combinations or preparation techniques that have caught your eye? I'm quite curious to hear your perspective, as long as you can keep the effusive language to a minimum. *raises eyebrow slightly*\n",
      "\n",
      "GPT:\n",
      "Ah, my astute friend! Your recollection of that enchanting family-owned pizzeria in Italy paints a vivid picture of culinary bliss. A margherita pizza crafted with the utmost respect for quality ingredients truly exemplifies the artistry of pizza-making! 🌿🍅🧀 \n",
      "\n",
      "As we embark on this journey into the world of creative topping combinations, let us venture into some delightful possibilities that honor tradition while exploring innovation! \n",
      "\n",
      "1. **Fig and Prosciutto**: A delightful interplay of sweet and savory! The fig's natural sweetness pairs exquisitely with the saltiness of the prosciutto, accented by a touch of arugula for a peppery crunch.\n",
      "\n",
      "2. **Buffalo Cauliflower**: This adventurous option offers a spicy kick! Roasted cauliflower tossed in buffalo sauce brings a bold flavor without leaning too heavily into traditional meat toppings.\n",
      "\n",
      "3. **Truffle Oil and Wild Mushrooms**: A luxurious combination that elevates the humble pizza to new heights! Wild mushrooms sautéed with a drizzle of truffle oil create a fragrant and rich experience.\n",
      "\n",
      "4. **Pear and Gorgonzola**: A unique pairing that balances sweetness and tang! The ripe pear melds beautifully with the boldness of gorgonzola, perhaps topped with toasted walnuts for an added crunch!\n",
      "\n",
      "5. **Spicy Honey Drizzle**: After baking, drizzling a bit of spicy honey over a simple cheese pizza creates a delightful contrast of flavors that intrigues the palate!\n",
      "\n",
      "There are endless possibilities to explore! Which of these inventive combinations piques your interest, or do you have a whimsical creation of your own that you wish to share? 🍕✨\n",
      "\n",
      "Claude:\n",
      "*clears throat and adjusts posture slightly* Ah yes, the creative pizza topping combinations you've presented are certainly intriguing. Let me provide my thoughts in a more succinct manner:\n",
      "\n",
      "The fig and prosciutto idea has merit, as the sweetness of the fig would likely complement the saltiness of the cured meat nicely. The buffalo cauliflower option is an interesting vegetarian alternative that could appeal to those seeking a spicier pizza experience. \n",
      "\n",
      "The truffle oil and wild mushroom combination sounds decadent and indulgent - a true elevation of the humble pizza. And the pairing of pear and gorgonzola is quite unique, potentially offering a lovely balance of sweetness and tanginess.\n",
      "\n",
      "Finally, the concept of a spicy honey drizzle is an elegant way to add an unexpected flavor twist to a classic cheese pizza. The interplay of sweet and heat could be quite captivating.\n",
      "\n",
      "Overall, I find these topping ideas to be thoughtfully crafted, paying homage to tradition while exploring novel flavor profiles. I'm particularly intrigued by the fig and prosciutto, as well as the truffle oil and mushroom variations. \n",
      "\n",
      "If I were to propose a creative pizza of my own, perhaps I would suggest a pie featuring roasted brussels sprouts, crispy pancetta, and a sprinkle of parmesan. The earthiness of the brussels sprouts, the saltiness of the pancetta, and the sharp, nutty notes of the parmesan could make for an unexpectedly delightful combination. What are your thoughts on this idea?\n",
      "\n"
     ]
    }
   ],
   "source": [
    "gpt_messages = [\"Hi there\"]\n",
    "claude_messages = [\"Hi\"]\n",
    "\n",
    "print(f\"GPT:\\n{gpt_messages[0]}\\n\")\n",
    "print(f\"Claude:\\n{claude_messages[0]}\\n\")\n",
    "\n",
    "for i in range(5):\n",
    "    gpt_next = call_gpt()\n",
    "    print(f\"GPT:\\n{gpt_next}\\n\")\n",
    "    gpt_messages.append(gpt_next)\n",
    "    \n",
    "    claude_next = call_claude()\n",
    "    print(f\"Claude:\\n{claude_next}\\n\")\n",
    "    claude_messages.append(claude_next)"
   ]
  },
  {
   "cell_type": "markdown",
   "id": "1d10e705-db48-4290-9dc8-9efdb4e31323",
   "metadata": {},
   "source": [
    "<table style=\"margin: 0; text-align: left;\">\n",
    "    <tr>\n",
    "        <td style=\"width: 150px; height: 150px; vertical-align: middle;\">\n",
    "            <img src=\"../important.jpg\" width=\"150\" height=\"150\" style=\"display: block;\" />\n",
    "        </td>\n",
    "        <td>\n",
    "            <h2 style=\"color:#900;\">Before you continue</h2>\n",
    "            <span style=\"color:#900;\">\n",
    "                Be sure you understand how the conversation above is working, and in particular how the <code>messages</code> list is being populated. Add print statements as needed. Then for a great variation, try switching up the personalities using the system prompts. Perhaps one can be pessimistic, and one optimistic?<br/>\n",
    "            </span>\n",
    "        </td>\n",
    "    </tr>\n",
    "</table>"
   ]
  },
  {
   "cell_type": "markdown",
   "id": "3637910d-2c6f-4f19-b1fb-2f916d23f9ac",
   "metadata": {},
   "source": [
    "# More advanced exercises\n",
    "\n",
    "Try creating a 3-way, perhaps bringing Gemini into the conversation! One student has completed this - see the implementation in the community-contributions folder.\n",
    "\n",
    "Try doing this yourself before you look at the solutions.\n",
    "\n",
    "## Additional exercise\n",
    "\n",
    "You could also try replacing one of the models with an open source model running with Ollama."
   ]
  },
  {
   "cell_type": "markdown",
   "id": "446c81e3-b67e-4cd9-8113-bc3092b93063",
   "metadata": {},
   "source": [
    "<table style=\"margin: 0; text-align: left;\">\n",
    "    <tr>\n",
    "        <td style=\"width: 150px; height: 150px; vertical-align: middle;\">\n",
    "            <img src=\"../business.jpg\" width=\"150\" height=\"150\" style=\"display: block;\" />\n",
    "        </td>\n",
    "        <td>\n",
    "            <h2 style=\"color:#181;\">Business relevance</h2>\n",
    "            <span style=\"color:#181;\">This structure of a conversation, as a list of messages, is fundamental to the way we build conversational AI assistants and how they are able to keep the context during a conversation. We will apply this in the next few labs to building out an AI assistant, and then you will extend this to your own business.</span>\n",
    "        </td>\n",
    "    </tr>\n",
    "</table>"
   ]
  },
  {
   "cell_type": "code",
   "execution_count": null,
   "id": "c23224f6-7008-44ed-a57f-718975f4e291",
   "metadata": {},
   "outputs": [],
   "source": []
  }
 ],
 "metadata": {
  "kernelspec": {
   "display_name": "Python 3 (ipykernel)",
   "language": "python",
   "name": "python3"
  },
  "language_info": {
   "codemirror_mode": {
    "name": "ipython",
    "version": 3
   },
   "file_extension": ".py",
   "mimetype": "text/x-python",
   "name": "python",
   "nbconvert_exporter": "python",
   "pygments_lexer": "ipython3",
   "version": "3.11.2"
  }
 },
 "nbformat": 4,
 "nbformat_minor": 5
}
