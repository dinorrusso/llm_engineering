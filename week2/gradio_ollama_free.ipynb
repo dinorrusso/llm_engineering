{
 "cells": [
  {
   "cell_type": "code",
   "execution_count": 1,
   "id": "f00ced35-6524-4af8-b574-b63633a257ee",
   "metadata": {},
   "outputs": [
    {
     "name": "stderr",
     "output_type": "stream",
     "text": [
      "/Users/dinorusso/.pyenv/versions/3.11.2/lib/python3.11/site-packages/tqdm/auto.py:21: TqdmWarning: IProgress not found. Please update jupyter and ipywidgets. See https://ipywidgets.readthedocs.io/en/stable/user_install.html\n",
      "  from .autonotebook import tqdm as notebook_tqdm\n"
     ]
    }
   ],
   "source": [
    "import gradio as gr\n",
    "import ollama\n",
    "from IPython.display import Markdown, display"
   ]
  },
  {
   "cell_type": "code",
   "execution_count": 2,
   "id": "14b31ada-2783-4b76-9977-6860669331de",
   "metadata": {},
   "outputs": [],
   "source": [
    "# Constants\n",
    "\n",
    "OLLAMA_API = \"http://localhost:11434/api/chat\"\n",
    "HEADERS = {\"Content-Type\": \"application/json\"}\n",
    "MODEL = \"llama3.2\""
   ]
  },
  {
   "cell_type": "code",
   "execution_count": 3,
   "id": "68962c3a-fdd0-4ee5-b1d4-99f9ff542761",
   "metadata": {},
   "outputs": [],
   "source": [
    "system_message = \"You are a helpful assistant\""
   ]
  },
  {
   "cell_type": "code",
   "execution_count": 4,
   "id": "ebcb7a08-5ae3-4f3e-a338-38b629dee7be",
   "metadata": {},
   "outputs": [],
   "source": [
    "# Let's wrap a call to ollama in a simple function\n",
    "def message_ollama(prompt):\n",
    "    messages = [\n",
    "        {\"role\": \"system\", \"content\": system_message},\n",
    "        {\"role\": \"user\", \"content\": prompt}\n",
    "      ]\n",
    "    response = ollama.chat(\n",
    "        model=MODEL,\n",
    "        messages=messages)\n",
    "    \n",
    "    print(prompt + \"\\n\" +response['message']['content'])\n",
    "    return prompt + \"\\n\" + response['message']['content']"
   ]
  },
  {
   "cell_type": "code",
   "execution_count": 5,
   "id": "76c163fb-d71f-43db-aca2-f78bedb4177a",
   "metadata": {},
   "outputs": [
    {
     "name": "stdout",
     "output_type": "stream",
     "text": [
      "What is Gradio?\n",
      "Gradio is an open-source library that enables users to create and deploy machine learning (ML) models in a web-based interface, using a simple and intuitive API. It was built on top of TensorFlow.js and allows developers to create interactive, visualizations-driven interfaces for their ML models.\n",
      "\n",
      "With Gradio, you can:\n",
      "\n",
      "1. **Create a web app**: Generate an executable code snippet that can be run on any device with a modern browser.\n",
      "2. **Visualize model outputs**: Use pre-built widgets to display the output of your ML model in real-time.\n",
      "3. **Interact with users**: Collect input from users and use it to test and validate your model's behavior.\n",
      "\n",
      "Gradio is particularly useful for:\n",
      "\n",
      "1. **Model explanation and interpretation**: Visualizing complex models and their behavior can help identify key factors that influence predictions.\n",
      "2. **Prototyping and testing**: Quickly iterate on and refine your ML models by having them respond to user input in real-time.\n",
      "3. **Education and outreach**: Making machine learning accessible to a broader audience through interactive, visual interfaces.\n",
      "\n",
      "Gradio has already been used to create numerous demos, experiments, and even full-fledged web applications for various domains, such as computer vision, natural language processing, and more!\n",
      "\n",
      "Would you like to know more about using Gradio or get started with a project?\n"
     ]
    },
    {
     "data": {
      "text/plain": [
       "\"What is Gradio?\\nGradio is an open-source library that enables users to create and deploy machine learning (ML) models in a web-based interface, using a simple and intuitive API. It was built on top of TensorFlow.js and allows developers to create interactive, visualizations-driven interfaces for their ML models.\\n\\nWith Gradio, you can:\\n\\n1. **Create a web app**: Generate an executable code snippet that can be run on any device with a modern browser.\\n2. **Visualize model outputs**: Use pre-built widgets to display the output of your ML model in real-time.\\n3. **Interact with users**: Collect input from users and use it to test and validate your model's behavior.\\n\\nGradio is particularly useful for:\\n\\n1. **Model explanation and interpretation**: Visualizing complex models and their behavior can help identify key factors that influence predictions.\\n2. **Prototyping and testing**: Quickly iterate on and refine your ML models by having them respond to user input in real-time.\\n3. **Education and outreach**: Making machine learning accessible to a broader audience through interactive, visual interfaces.\\n\\nGradio has already been used to create numerous demos, experiments, and even full-fledged web applications for various domains, such as computer vision, natural language processing, and more!\\n\\nWould you like to know more about using Gradio or get started with a project?\""
      ]
     },
     "execution_count": 5,
     "metadata": {},
     "output_type": "execute_result"
    }
   ],
   "source": [
    "message_ollama(\"What is Gradio?\")"
   ]
  },
  {
   "cell_type": "code",
   "execution_count": 6,
   "id": "80afcd17-aeb8-4287-81bd-60bae03e844b",
   "metadata": {},
   "outputs": [
    {
     "name": "stdout",
     "output_type": "stream",
     "text": [
      "* Running on local URL:  http://127.0.0.1:7862\n",
      "\n",
      "To create a public link, set `share=True` in `launch()`.\n"
     ]
    },
    {
     "data": {
      "text/html": [
       "<div><iframe src=\"http://127.0.0.1:7862/\" width=\"100%\" height=\"500\" allow=\"autoplay; camera; microphone; clipboard-read; clipboard-write;\" frameborder=\"0\" allowfullscreen></iframe></div>"
      ],
      "text/plain": [
       "<IPython.core.display.HTML object>"
      ]
     },
     "metadata": {},
     "output_type": "display_data"
    },
    {
     "data": {
      "text/plain": []
     },
     "execution_count": 6,
     "metadata": {},
     "output_type": "execute_result"
    },
    {
     "name": "stdout",
     "output_type": "stream",
     "text": [
      "how do i uninstall oh my zshell\n",
      "Oh My Zsh is a popular shell theme and prompt for macOS. To uninstall Oh My Zsh, you can follow these steps:\n",
      "\n",
      "**Method 1: Using Homebrew**\n",
      "\n",
      "If you installed Oh My Zsh using Homebrew, you can easily uninstall it by running the following command:\n",
      "```bash\n",
      "brew untap ohmyzsh/tap\n",
      "```\n",
      "This will remove the Oh My Zsh tap from your system.\n",
      "\n",
      "To completely uninstall Oh My Zsh, run:\n",
      "```bash\n",
      "brew uninstall ohmyzsh\n",
      "```\n",
      "**Method 2: Manual removal**\n",
      "\n",
      "If you didn't install Oh My Zsh using Homebrew, or if you want to manually remove it, follow these steps:\n",
      "\n",
      "1. Open the Terminal app on your Mac.\n",
      "2. Type `cd ~/Library/zsh` and press Enter to navigate to the zsh directory in your user library folder.\n",
      "3. Delete the following files:\n",
      "\t* `.zshrc`\n",
      "\t* `.zshenv`\n",
      "\t* `.zprofile`\n",
      "\t* `.zshtheme` (if you have a custom theme)\n",
      "4. Run `rm -rf ~/.oh-my-zsh` to remove the entire Oh My Zsh directory.\n",
      "5. Type `cd ~/Library/zsh` and press Enter to return to the zsh directory.\n",
      "\n",
      "**Method 3: Resetting zsh**\n",
      "\n",
      "If you only want to reset your shell settings without removing Oh My Zsh completely, you can try running:\n",
      "```bash\n",
      "source ~/.zshrc -c \"unset CURDIR; unset GPATH; unset PYTHONPATH\"\n",
      "```\n",
      "This will reload the current shell configuration and reset some of the settings.\n",
      "\n",
      "After uninstalling or resetting Oh My Zsh, you may want to create a new `~/.zshrc` file with your preferred shell settings.\n"
     ]
    }
   ],
   "source": [
    "gr.Interface(fn=message_ollama, inputs=\"textbox\", outputs=\"textbox\", flagging_mode=\"never\").launch(inbrowser=True)"
   ]
  },
  {
   "cell_type": "code",
   "execution_count": null,
   "id": "6267ce0e-630b-480b-995c-90d600ac5b72",
   "metadata": {},
   "outputs": [],
   "source": []
  }
 ],
 "metadata": {
  "kernelspec": {
   "display_name": "3.11.2",
   "language": "python",
   "name": "python3"
  },
  "language_info": {
   "codemirror_mode": {
    "name": "ipython",
    "version": 3
   },
   "file_extension": ".py",
   "mimetype": "text/x-python",
   "name": "python",
   "nbconvert_exporter": "python",
   "pygments_lexer": "ipython3",
   "version": "3.11.2"
  }
 },
 "nbformat": 4,
 "nbformat_minor": 5
}
